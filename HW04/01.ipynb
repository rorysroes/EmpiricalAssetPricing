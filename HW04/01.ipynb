{
 "cells": [
  {
   "cell_type": "markdown",
   "id": "45bcb540",
   "metadata": {},
   "source": [
    "## Please replicate Table 1 of Petersen (2009) RFS paper. This paper is here. Please focus on 4 cases:\n",
    "(0%, 0%) (0%, 50%) (50%, 0%) (50%, 50%)."
   ]
  },
  {
   "cell_type": "code",
   "execution_count": 228,
   "id": "7738762a",
   "metadata": {},
   "outputs": [],
   "source": [
    "import numpy as np\n",
    "import pandas as pd\n",
    "import statsmodels as statsmodels\n",
    "import statsmodels.api as sm\n",
    "import statsmodels.formula.api as sm1\n",
    "import warnings\n",
    "warnings.filterwarnings(\"ignore\")\n",
    "from linearmodels import PanelOLS, FamaMacBeth"
   ]
  },
  {
   "cell_type": "code",
   "execution_count": 2,
   "id": "0b683273",
   "metadata": {},
   "outputs": [],
   "source": [
    "df=pd.read_table(\n",
    "    \"http://www.kellogg.northwestern.edu/faculty/petersen/htm/papers/se/test_data.txt\",\n",
    "    names=[\"firmid\", \"year\", \"x\", \"y\"],\n",
    "    delim_whitespace=True,\n",
    ")\n",
    "df=df[['firmid', 'year']]"
   ]
  },
  {
   "cell_type": "code",
   "execution_count": 178,
   "id": "8cd62f69",
   "metadata": {
    "scrolled": true
   },
   "outputs": [],
   "source": [
    "def EstimatingStandardErrors(df, numiter, numfirm, numyyear, beta, std_x, std_r, firm_x, firm_r):\n",
    "\n",
    "    estimated_ols_beta_list=[]\n",
    "    estimated_ols_se_list=[]\n",
    "    estimated_ols_tvalue_list=[]\n",
    "\n",
    "    estimated_cluster_ols_beta_list=[]\n",
    "    estimated_cluster_ols_se_list=[]\n",
    "    estimated_cluster_ols_tvalue_list=[]\n",
    "\n",
    "    for i in range(0, numiter , 1):\n",
    "\n",
    "        list_x=[]\n",
    "        list_r=[]\n",
    "\n",
    "        for firm in range(0, numfirm, 1):\n",
    "\n",
    "            error_x=np.sqrt(1-firm_x)*np.random.normal(0, std_x, numyyear)\n",
    "            firm_temp=np.sqrt(firm_x)*np.random.normal(0, std_x, 1)\n",
    "            firm_temp=[firm_temp[0] for i in range(0,numyyear,1)]\n",
    "            x=error_x+firm_temp\n",
    "            list_x.append(x)\n",
    "\n",
    "            error_r=np.sqrt(1-firm_r)*np.random.normal(0, std_r, numyyear)\n",
    "            firm_temp=np.sqrt(firm_r)*np.random.normal(0, std_r, 1)\n",
    "            firm_temp=[firm_temp[0] for i in range(0,numyyear,1)]\n",
    "            r=error_r+firm_temp\n",
    "            list_r.append(r)\n",
    "\n",
    "        df['x']=np.array(list_x).flatten()\n",
    "        df['r']=np.array(list_r).flatten()\n",
    "        df['y']=df['x']*beta+df['r']\n",
    "\n",
    "        # running OLS regression\n",
    "        Y = df['y']\n",
    "        X = df['x']\n",
    "\n",
    "        model = sm.OLS(endog=Y, exog=X)\n",
    "\n",
    "        results = model.fit()\n",
    "        estimated_ols_beta_list.append(results.params['x'])\n",
    "        estimated_ols_se_list.append(results.bse['x'])\n",
    "        estimated_ols_tvalue_list.append(results.tvalues['x']) # t>2.58\n",
    "\n",
    "        results=\\\n",
    "        model.fit(\n",
    "        cov_type=\"cluster\",\n",
    "        cov_kwds={\"groups\": df[\"firmid\"]},\n",
    "        use_t=True)\n",
    "        estimated_cluster_ols_beta_list.append(results.params['x'])\n",
    "        estimated_cluster_ols_se_list.append(results.bse['x'])\n",
    "        estimated_cluster_ols_tvalue_list.append(results.tvalues['x'])\n",
    "    \n",
    "    print(\"Average beta_OLS: {}\".format(np.mean(estimated_ols_beta_list)))\n",
    "    print(\"Std of beta_OLS: {}\".format(np.std(estimated_ols_beta_list)))\n",
    "    print(\"Average SE_OLS: {}\".format(np.mean(estimated_ols_se_list)))\n",
    "    print(\"Average SE_Cluster: {}\".format(np.mean(estimated_cluster_ols_se_list)))"
   ]
  },
  {
   "cell_type": "code",
   "execution_count": null,
   "id": "1da37c1b",
   "metadata": {},
   "outputs": [],
   "source": []
  },
  {
   "cell_type": "markdown",
   "id": "0a9b83c5",
   "metadata": {},
   "source": [
    "## Q1"
   ]
  },
  {
   "cell_type": "code",
   "execution_count": 176,
   "id": "5437465f",
   "metadata": {},
   "outputs": [],
   "source": [
    "numiter=100 # 100 simulation of a panel data set\n",
    "numfirm=500 # 500 firms\n",
    "numyyear=10 # 10 years per firm\n",
    "beta=1 # The true slope coefficient is 1, \n",
    "std_x=1 # the standard deviation of the independent variable is 1 \n",
    "std_r=2 # the standard deviation of the residual term is 2.\n",
    "# firm_x=0.5 # The fraction of the independent variable’s variance which is due to a firm specific component\n",
    "# firm_r=0.5 # The fraction of the residual variance which is due to a firm specific component"
   ]
  },
  {
   "cell_type": "code",
   "execution_count": 180,
   "id": "e1627b74",
   "metadata": {},
   "outputs": [
    {
     "name": "stdout",
     "output_type": "stream",
     "text": [
      "Average beta_OLS: 1.00735650233282\n",
      "Std of beta_OLS: 0.025818918705525017\n",
      "Average SE_OLS: 0.028262151528697547\n",
      "Average SE_Cluster: 0.02821080297441014\n"
     ]
    }
   ],
   "source": [
    "# Case 1. (0%, 0%)\n",
    "firm_x=0.0\n",
    "firm_r=0.0\n",
    "\n",
    "EstimatingStandardErrors(df, numiter, numfirm, numyyear, beta, std_x, std_r, firm_x, firm_r)\n",
    "\n",
    "# When there is no firm effect in the independent variable\n",
    "# (i.e. the independent variable is independent across observations), the standard errors\n",
    "# estimated by OLS are also unbiased"
   ]
  },
  {
   "cell_type": "code",
   "execution_count": 181,
   "id": "19d65586",
   "metadata": {},
   "outputs": [
    {
     "name": "stdout",
     "output_type": "stream",
     "text": [
      "Average beta_OLS: 0.995925117245851\n",
      "Std of beta_OLS: 0.029422593110733208\n",
      "Average SE_OLS: 0.028441814125799783\n",
      "Average SE_Cluster: 0.028532941936971975\n"
     ]
    }
   ],
   "source": [
    "# Case 2. (0%, 50%)\n",
    "firm_x=0.0\n",
    "firm_r=0.5\n",
    "\n",
    "EstimatingStandardErrors(df, numiter, numfirm, numyyear, beta, std_x, std_r, firm_x, firm_r)"
   ]
  },
  {
   "cell_type": "code",
   "execution_count": 182,
   "id": "45c306e8",
   "metadata": {},
   "outputs": [
    {
     "name": "stdout",
     "output_type": "stream",
     "text": [
      "Average beta_OLS: 0.9994778823285421\n",
      "Std of beta_OLS: 0.02962801953227441\n",
      "Average SE_OLS: 0.02838821796820115\n",
      "Average SE_Cluster: 0.028322929028867606\n"
     ]
    }
   ],
   "source": [
    "# Case 3. (50%, 0%)\n",
    "firm_x=0.5\n",
    "firm_r=0.0\n",
    "\n",
    "EstimatingStandardErrors(df, numiter, numfirm, numyyear, beta, std_x, std_r, firm_x, firm_r)"
   ]
  },
  {
   "cell_type": "code",
   "execution_count": 183,
   "id": "3f249798",
   "metadata": {},
   "outputs": [
    {
     "name": "stdout",
     "output_type": "stream",
     "text": [
      "Average beta_OLS: 1.005437105277036\n",
      "Std of beta_OLS: 0.054873392127638705\n",
      "Average SE_OLS: 0.028177109532289347\n",
      "Average SE_Cluster: 0.050612523455717054\n"
     ]
    }
   ],
   "source": [
    "# Case 4. (50%, 50%)\n",
    "firm_x=0.5\n",
    "firm_r=0.5\n",
    "\n",
    "EstimatingStandardErrors(df, numiter, numfirm, numyyear, beta, std_x, std_r, firm_x, firm_r)\n",
    "\n",
    "# when fifty percent of the variability in both the residual \n",
    "# and the independent variable is due to the firm effect (ρX = ρε = 0.50), \n",
    "# the OLS estimated standard error is one half of the true standard error\n",
    "# The standard errors estimated by OLS do not rise \n",
    "# as the firm effect increases across either the columns (i.e. in the independent\n",
    "# variable) or across the rows (i.e. in the residual). The true standard error does rise."
   ]
  },
  {
   "cell_type": "code",
   "execution_count": null,
   "id": "4e384f8a",
   "metadata": {},
   "outputs": [],
   "source": []
  },
  {
   "cell_type": "markdown",
   "id": "77a73193",
   "metadata": {},
   "source": [
    "## Q2: report for Fama-MacBeth regression"
   ]
  },
  {
   "cell_type": "code",
   "execution_count": 214,
   "id": "cb388999",
   "metadata": {},
   "outputs": [],
   "source": [
    "def EstimatingStandardErrorsFamaMacBeth(df, numiter, numfirm, numyyear, beta, std_x, std_r, firm_x, firm_r):\n",
    "\n",
    "    estimated_ols_beta_list=[]\n",
    "    estimated_ols_se_list=[]\n",
    "    estimated_ols_tvalue_list=[]\n",
    "\n",
    "    estimated_cluster_ols_beta_list=[]\n",
    "    estimated_cluster_ols_se_list=[]\n",
    "    estimated_cluster_ols_tvalue_list=[]\n",
    "    \n",
    "    estimated_FamaMacBeth_beta_list=[]\n",
    "    estimated_FamaMacBeth_se_list=[]\n",
    "    estimated_FamaMacBeth_tvalue_list=[]\n",
    "\n",
    "    for i in range(0, numiter , 1):\n",
    "\n",
    "        list_x=[]\n",
    "        list_r=[]\n",
    "\n",
    "        for firm in range(0, numfirm, 1):\n",
    "\n",
    "            error_x=np.sqrt(1-firm_x)*np.random.normal(0, std_x, numyyear)\n",
    "            firm_temp=np.sqrt(firm_x)*np.random.normal(0, std_x, 1)\n",
    "            firm_temp=[firm_temp[0] for i in range(0,numyyear,1)]\n",
    "            x=error_x+firm_temp\n",
    "            list_x.append(x)\n",
    "\n",
    "            error_r=np.sqrt(1-firm_r)*np.random.normal(0, std_r, numyyear)\n",
    "            firm_temp=np.sqrt(firm_r)*np.random.normal(0, std_r, 1)\n",
    "            firm_temp=[firm_temp[0] for i in range(0,numyyear,1)]\n",
    "            r=error_r+firm_temp\n",
    "            list_r.append(r)\n",
    "\n",
    "        df['x']=np.array(list_x).flatten()\n",
    "        df['r']=np.array(list_r).flatten()\n",
    "        df['y']=df['x']*beta+df['r']\n",
    "            \n",
    "        # running OLS regression\n",
    "        Y = df['y']\n",
    "        X = df['x']\n",
    "        X = sm.add_constant(X)\n",
    "\n",
    "        model = sm.OLS(endog=Y, exog=X)\n",
    "\n",
    "        results = model.fit()\n",
    "        estimated_ols_beta_list.append(results.params['x'])\n",
    "        estimated_ols_se_list.append(results.bse['x'])\n",
    "        estimated_ols_tvalue_list.append(results.tvalues['x']) # t>2.58\n",
    "\n",
    "        results=\\\n",
    "        model.fit(\n",
    "        cov_type=\"cluster\",\n",
    "        cov_kwds={\"groups\": df[\"firmid\"]},\n",
    "        use_t=True)\n",
    "        estimated_cluster_ols_beta_list.append(results.params['x'])\n",
    "        estimated_cluster_ols_se_list.append(results.bse['x'])\n",
    "        estimated_cluster_ols_tvalue_list.append(results.tvalues['x'])\n",
    "        \n",
    "        df2 = df.set_index([\"firmid\", \"year\"])\n",
    "        results=\\\n",
    "        FamaMacBeth.from_formula(\"y ~ x\", data=df2).fit()\n",
    "        estimated_FamaMacBeth_beta_list.append(results.params['x'])\n",
    "        estimated_FamaMacBeth_se_list.append(results.std_errors['x'])\n",
    "        estimated_FamaMacBeth_tvalue_list.append(results.tstats['x'])\n",
    "    \n",
    "    print(\"Average beta_OLS: {}\".format(np.mean(estimated_ols_beta_list)))\n",
    "    print(\"Std of beta_OLS: {}\".format(np.std(estimated_ols_beta_list)))\n",
    "    print(\"Average SE_OLS: {}\".format(np.mean(estimated_ols_se_list)))\n",
    "    print(\"Average SE_Cluster: {}\".format(np.mean(estimated_cluster_ols_se_list)))\n",
    "    print(\"Average SE_FamaMacBeth: {}\".format(np.mean(estimated_FamaMacBeth_se_list)))"
   ]
  },
  {
   "cell_type": "code",
   "execution_count": 255,
   "id": "00a4517f",
   "metadata": {},
   "outputs": [],
   "source": [
    "numiter=100 # 100 simulation of a panel data set\n",
    "numfirm=500 # 500 firms\n",
    "numyyear=10 # 10 years per firm\n",
    "beta=1 # The true slope coefficient is 1, \n",
    "std_x=1 # the standard deviation of the independent variable is 1 \n",
    "std_r=2 # the standard deviation of the residual term is 2."
   ]
  },
  {
   "cell_type": "code",
   "execution_count": 216,
   "id": "c623dbc0",
   "metadata": {},
   "outputs": [
    {
     "name": "stdout",
     "output_type": "stream",
     "text": [
      "Average beta_OLS: 1.0014262186641516\n",
      "Std of beta_OLS: 0.02894015391451759\n",
      "Average SE_OLS: 0.02820254506797718\n",
      "Average SE_Cluster: 0.02811831873269093\n",
      "Average SE_FamaMacBeth: 0.02671389546439515\n"
     ]
    }
   ],
   "source": [
    "# Case 1. (0%, 0%)\n",
    "firm_x=0.0\n",
    "firm_r=0.0\n",
    "\n",
    "EstimatingStandardErrorsFamaMacBeth(df, numiter, numfirm, numyyear, beta, std_x, std_r, firm_x, firm_r)"
   ]
  },
  {
   "cell_type": "code",
   "execution_count": 217,
   "id": "a3a9e8b6",
   "metadata": {},
   "outputs": [
    {
     "name": "stdout",
     "output_type": "stream",
     "text": [
      "Average beta_OLS: 0.9916169756418125\n",
      "Std of beta_OLS: 0.027089074792616435\n",
      "Average SE_OLS: 0.02832865351804748\n",
      "Average SE_Cluster: 0.02811585435062963\n",
      "Average SE_FamaMacBeth: 0.027123222952507565\n"
     ]
    }
   ],
   "source": [
    "# Case 2. (0%, 50%)\n",
    "firm_x=0.0\n",
    "firm_r=0.5\n",
    "\n",
    "EstimatingStandardErrorsFamaMacBeth(df, numiter, numfirm, numyyear, beta, std_x, std_r, firm_x, firm_r)"
   ]
  },
  {
   "cell_type": "code",
   "execution_count": 218,
   "id": "c00b36cc",
   "metadata": {},
   "outputs": [
    {
     "name": "stdout",
     "output_type": "stream",
     "text": [
      "Average beta_OLS: 1.00272299114204\n",
      "Std of beta_OLS: 0.025779356393309843\n",
      "Average SE_OLS: 0.02831276026929911\n",
      "Average SE_Cluster: 0.028490926553193532\n",
      "Average SE_FamaMacBeth: 0.027345922174558543\n"
     ]
    }
   ],
   "source": [
    "# Case 3. (50%, 0%)\n",
    "firm_x=0.5\n",
    "firm_r=0.0\n",
    "\n",
    "EstimatingStandardErrorsFamaMacBeth(df, numiter, numfirm, numyyear, beta, std_x, std_r, firm_x, firm_r)"
   ]
  },
  {
   "cell_type": "code",
   "execution_count": 219,
   "id": "0f61d81e",
   "metadata": {},
   "outputs": [
    {
     "name": "stdout",
     "output_type": "stream",
     "text": [
      "Average beta_OLS: 1.0077070148014455\n",
      "Std of beta_OLS: 0.04505934090687732\n",
      "Average SE_OLS: 0.028300816444651777\n",
      "Average SE_Cluster: 0.05054520093751738\n",
      "Average SE_FamaMacBeth: 0.02424507803748266\n"
     ]
    }
   ],
   "source": [
    "# Case 4. (50%, 50%)\n",
    "firm_x=0.5\n",
    "firm_r=0.5\n",
    "\n",
    "EstimatingStandardErrorsFamaMacBeth(df, numiter, numfirm, numyyear, beta, std_x, std_r, firm_x, firm_r)"
   ]
  },
  {
   "cell_type": "code",
   "execution_count": null,
   "id": "8f86a4b0",
   "metadata": {},
   "outputs": [],
   "source": []
  },
  {
   "cell_type": "markdown",
   "id": "b84421de",
   "metadata": {},
   "source": [
    "## Q3: estimate the model after including firm fixed effects."
   ]
  },
  {
   "cell_type": "code",
   "execution_count": 245,
   "id": "6ba09c27",
   "metadata": {},
   "outputs": [],
   "source": [
    "def EstimatingStandardErrorsFirmFixedEffect(df, numiter, numfirm, numyyear, beta, std_x, std_r, firm_x, firm_r):\n",
    "\n",
    "    estimated_ols_beta_list=[]\n",
    "    estimated_ols_se_list=[]\n",
    "    estimated_ols_tvalue_list=[]\n",
    "\n",
    "    estimated_cluster_ols_beta_list=[]\n",
    "    estimated_cluster_ols_se_list=[]\n",
    "    estimated_cluster_ols_tvalue_list=[]\n",
    "\n",
    "    for i in range(0, numiter , 1):\n",
    "\n",
    "        list_x=[]\n",
    "        list_r=[]\n",
    "\n",
    "        for firm in range(0, numfirm, 1):\n",
    "\n",
    "            error_x=np.sqrt(1-firm_x)*np.random.normal(0, std_x, numyyear)\n",
    "            firm_temp=np.sqrt(firm_x)*np.random.normal(0, std_x, 1)\n",
    "            firm_temp=[firm_temp[0] for i in range(0,numyyear,1)]\n",
    "            x=error_x+firm_temp\n",
    "            list_x.append(x)\n",
    "\n",
    "            error_r=np.sqrt(1-firm_r)*np.random.normal(0, std_r, numyyear)\n",
    "            firm_temp=np.sqrt(firm_r)*np.random.normal(0, std_r, 1)\n",
    "            firm_temp=[firm_temp[0] for i in range(0,numyyear,1)]\n",
    "            r=error_r+firm_temp\n",
    "            list_r.append(r)\n",
    "\n",
    "        df['x']=np.array(list_x).flatten()\n",
    "        df['r']=np.array(list_r).flatten()\n",
    "        df['y']=df['x']*beta+df['r']\n",
    "            \n",
    "        # running OLS regression with firm fixed effect\n",
    "        \n",
    "        model=sm1.ols(formula=\"y ~ x + C(firmid)\", data=df)    \n",
    "        results = model.fit(use_t=True)\n",
    "            \n",
    "        estimated_ols_beta_list.append(results.params['x'])\n",
    "        estimated_ols_se_list.append(results.bse['x'])\n",
    "        estimated_ols_tvalue_list.append(results.tvalues['x'])\n",
    "        \n",
    "        # running OLS regression\n",
    "        Y = df['y']\n",
    "        X = df['x']\n",
    "        X = sm.add_constant(X)\n",
    "\n",
    "        model = sm.OLS(endog=Y, exog=X)\n",
    "        \n",
    "        results=\\\n",
    "        model.fit(\n",
    "            cov_type=\"cluster\",\n",
    "            cov_kwds={\"groups\": df[\"firmid\"]},\n",
    "        use_t=True)\n",
    "        estimated_cluster_ols_beta_list.append(results.params['x'])\n",
    "        estimated_cluster_ols_se_list.append(results.bse['x'])\n",
    "        estimated_cluster_ols_tvalue_list.append(results.tvalues['x'])\n",
    "\n",
    "    print(\"Average beta_OLS: {}\".format(np.mean(estimated_ols_beta_list)))\n",
    "    print(\"Std of beta_OLS: {}\".format(np.std(estimated_ols_beta_list)))\n",
    "    print(\"Average SE_OLS: {}\".format(np.mean(estimated_ols_se_list)))\n",
    "    print(\"Average SE_Cluster: {}\".format(np.mean(estimated_cluster_ols_se_list)))"
   ]
  },
  {
   "cell_type": "code",
   "execution_count": 249,
   "id": "be7650dd",
   "metadata": {},
   "outputs": [],
   "source": [
    "numiter=100 # 100 simulation of a panel data set\n",
    "numfirm=500 # 500 firms\n",
    "numyyear=10 # 10 years per firm\n",
    "beta=1 # The true slope coefficient is 1, \n",
    "std_x=1 # the standard deviation of the independent variable is 1 \n",
    "std_r=2 # the standard deviation of the residual term is 2."
   ]
  },
  {
   "cell_type": "code",
   "execution_count": 252,
   "id": "9b403c2f",
   "metadata": {},
   "outputs": [
    {
     "name": "stdout",
     "output_type": "stream",
     "text": [
      "Average beta_OLS: 0.997177458842596\n",
      "Std of beta_OLS: 0.029482593250637314\n",
      "Average SE_OLS: 0.02985686885397376\n",
      "Average SE_Cluster: 0.028210990009711934\n"
     ]
    }
   ],
   "source": [
    "# Case 1. (0%, 0%)\n",
    "firm_x=0.0\n",
    "firm_r=0.0\n",
    "\n",
    "EstimatingStandardErrorsFirmFixedEffect(df, numiter, numfirm, numyyear, beta, std_x, std_r, firm_x, firm_r)"
   ]
  },
  {
   "cell_type": "code",
   "execution_count": 253,
   "id": "19d81fee",
   "metadata": {},
   "outputs": [
    {
     "name": "stdout",
     "output_type": "stream",
     "text": [
      "Average beta_OLS: 0.9988872480641366\n",
      "Std of beta_OLS: 0.018793846759020627\n",
      "Average SE_OLS: 0.021107666376306025\n",
      "Average SE_Cluster: 0.028262414012445652\n"
     ]
    }
   ],
   "source": [
    "# Case 2. (0%, 50%)\n",
    "firm_x=0.0\n",
    "firm_r=0.5\n",
    "\n",
    "EstimatingStandardErrorsFirmFixedEffect(df, numiter, numfirm, numyyear, beta, std_x, std_r, firm_x, firm_r)"
   ]
  },
  {
   "cell_type": "code",
   "execution_count": 254,
   "id": "47a734f2",
   "metadata": {},
   "outputs": [
    {
     "name": "stdout",
     "output_type": "stream",
     "text": [
      "Average beta_OLS: 1.0083655503106115\n",
      "Std of beta_OLS: 0.04087383111573506\n",
      "Average SE_OLS: 0.04215152789681704\n",
      "Average SE_Cluster: 0.028234030109810338\n"
     ]
    }
   ],
   "source": [
    "# Case 3. (50%, 0%)\n",
    "firm_x=0.5\n",
    "firm_r=0.0\n",
    "\n",
    "EstimatingStandardErrorsFirmFixedEffect(df, numiter, numfirm, numyyear, beta, std_x, std_r, firm_x, firm_r)"
   ]
  },
  {
   "cell_type": "code",
   "execution_count": 256,
   "id": "cab1870b",
   "metadata": {},
   "outputs": [
    {
     "name": "stdout",
     "output_type": "stream",
     "text": [
      "Average beta_OLS: 1.0040148225440795\n",
      "Std of beta_OLS: 0.030159813628826415\n",
      "Average SE_OLS: 0.029804085370860454\n",
      "Average SE_Cluster: 0.050588812435432985\n"
     ]
    }
   ],
   "source": [
    "# Case 4. (50%, 50%)\n",
    "firm_x=0.5\n",
    "firm_r=0.5\n",
    "\n",
    "EstimatingStandardErrorsFirmFixedEffect(df, numiter, numfirm, numyyear, beta, std_x, std_r, firm_x, firm_r)"
   ]
  },
  {
   "cell_type": "code",
   "execution_count": null,
   "id": "51d9be25",
   "metadata": {},
   "outputs": [],
   "source": []
  }
 ],
 "metadata": {
  "kernelspec": {
   "display_name": "Python 3 (ipykernel)",
   "language": "python",
   "name": "python3"
  },
  "language_info": {
   "codemirror_mode": {
    "name": "ipython",
    "version": 3
   },
   "file_extension": ".py",
   "mimetype": "text/x-python",
   "name": "python",
   "nbconvert_exporter": "python",
   "pygments_lexer": "ipython3",
   "version": "3.10.9"
  }
 },
 "nbformat": 4,
 "nbformat_minor": 5
}
