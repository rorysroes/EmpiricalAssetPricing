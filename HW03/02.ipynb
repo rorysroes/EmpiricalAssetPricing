{
 "cells": [
  {
   "cell_type": "markdown",
   "id": "f3066844",
   "metadata": {},
   "source": [
    "https://docs.google.com/document/d/1h7w9xqNUQCZB_-DAv-5JD7gMpy-l1NuF0dZNP3PTKsA/edit"
   ]
  },
  {
   "cell_type": "code",
   "execution_count": 1,
   "id": "9f9d7ddf",
   "metadata": {},
   "outputs": [],
   "source": [
    "from datetime import date, datetime, timedelta\n",
    "from collections import defaultdict\n",
    "from scipy.optimize import minimize\n",
    "from random import choices\n",
    "\n",
    "import pandas as pd\n",
    "import numpy as np\n",
    "import statsmodels.api as sm\n",
    "import scipy.optimize as opt\n",
    "import matplotlib.pyplot as plt\n",
    "import scipy.stats as st"
   ]
  },
  {
   "cell_type": "code",
   "execution_count": 2,
   "id": "19286394",
   "metadata": {},
   "outputs": [],
   "source": [
    "path_data=\\\n",
    "'/Users/rory/CUNY_Courses/EmpiricalAssetPricing/HW/Data/PredictorData2022.csv'\n",
    "\n",
    "data=pd.read_csv(path_data)\n",
    "data['yyyymm']=pd.to_datetime(data['yyyymm'], format='%Y%m')\n",
    "data=data[(data['yyyymm'] >= datetime(1950,1,1))].reset_index(drop=True)\n",
    "data['CRSP_SPvw_ExcessRet']=data['CRSP_SPvw']-data['Rfree']\n",
    "data['Index']=data['Index'].apply(lambda x: float(x.replace(\",\", \"\")))\n",
    "data['d/p']=data['D12']/data['Index']\n",
    "data['e/p']=data['E12']/data['Index']\n",
    "data['bondspread']=data['AAA']-data['tbl']\n",
    "data['mm']=data['yyyymm'].apply(lambda x: x.month)"
   ]
  },
  {
   "cell_type": "code",
   "execution_count": null,
   "id": "0ca0876b",
   "metadata": {},
   "outputs": [],
   "source": []
  },
  {
   "cell_type": "markdown",
   "id": "165ea1cc",
   "metadata": {},
   "source": [
    "### Monthly"
   ]
  },
  {
   "cell_type": "code",
   "execution_count": 3,
   "id": "7835bf04",
   "metadata": {},
   "outputs": [
    {
     "data": {
      "text/html": [
       "<table class=\"simpletable\">\n",
       "<caption>OLS Regression Results</caption>\n",
       "<tr>\n",
       "  <th>Dep. Variable:</th>    <td>CRSP_SPvw_ExcessRet</td> <th>  R-squared (uncentered):</th>      <td>   0.028</td>\n",
       "</tr>\n",
       "<tr>\n",
       "  <th>Model:</th>                    <td>OLS</td>         <th>  Adj. R-squared (uncentered):</th> <td>   0.025</td>\n",
       "</tr>\n",
       "<tr>\n",
       "  <th>Method:</th>              <td>Least Squares</td>    <th>  F-statistic:       </th>          <td>   8.372</td>\n",
       "</tr>\n",
       "<tr>\n",
       "  <th>Date:</th>              <td>Sun, 24 Mar 2024</td>   <th>  Prob (F-statistic):</th>          <td>1.72e-05</td>\n",
       "</tr>\n",
       "<tr>\n",
       "  <th>Time:</th>                  <td>19:32:01</td>       <th>  Log-Likelihood:    </th>          <td>  1530.2</td>\n",
       "</tr>\n",
       "<tr>\n",
       "  <th>No. Observations:</th>       <td>   876</td>        <th>  AIC:               </th>          <td>  -3054.</td>\n",
       "</tr>\n",
       "<tr>\n",
       "  <th>Df Residuals:</th>           <td>   873</td>        <th>  BIC:               </th>          <td>  -3040.</td>\n",
       "</tr>\n",
       "<tr>\n",
       "  <th>Df Model:</th>               <td>     3</td>        <th>                     </th>              <td> </td>   \n",
       "</tr>\n",
       "<tr>\n",
       "  <th>Covariance Type:</th>       <td>nonrobust</td>      <th>                     </th>              <td> </td>   \n",
       "</tr>\n",
       "</table>\n",
       "<table class=\"simpletable\">\n",
       "<tr>\n",
       "       <td></td>         <th>coef</th>     <th>std err</th>      <th>t</th>      <th>P>|t|</th>  <th>[0.025</th>    <th>0.975]</th>  \n",
       "</tr>\n",
       "<tr>\n",
       "  <th>d/p</th>        <td>    0.1675</td> <td>    0.220</td> <td>    0.760</td> <td> 0.447</td> <td>   -0.265</td> <td>    0.600</td>\n",
       "</tr>\n",
       "<tr>\n",
       "  <th>e/p</th>        <td>   -0.0637</td> <td>    0.105</td> <td>   -0.608</td> <td> 0.543</td> <td>   -0.269</td> <td>    0.142</td>\n",
       "</tr>\n",
       "<tr>\n",
       "  <th>bondspread</th> <td>    0.2227</td> <td>    0.073</td> <td>    3.055</td> <td> 0.002</td> <td>    0.080</td> <td>    0.366</td>\n",
       "</tr>\n",
       "</table>\n",
       "<table class=\"simpletable\">\n",
       "<tr>\n",
       "  <th>Omnibus:</th>       <td>64.445</td> <th>  Durbin-Watson:     </th> <td>   1.958</td>\n",
       "</tr>\n",
       "<tr>\n",
       "  <th>Prob(Omnibus):</th> <td> 0.000</td> <th>  Jarque-Bera (JB):  </th> <td> 134.411</td>\n",
       "</tr>\n",
       "<tr>\n",
       "  <th>Skew:</th>          <td>-0.456</td> <th>  Prob(JB):          </th> <td>6.50e-30</td>\n",
       "</tr>\n",
       "<tr>\n",
       "  <th>Kurtosis:</th>      <td> 4.688</td> <th>  Cond. No.          </th> <td>    13.8</td>\n",
       "</tr>\n",
       "</table><br/><br/>Notes:<br/>[1] R² is computed without centering (uncentered) since the model does not contain a constant.<br/>[2] Standard Errors assume that the covariance matrix of the errors is correctly specified."
      ],
      "text/plain": [
       "<class 'statsmodels.iolib.summary.Summary'>\n",
       "\"\"\"\n",
       "                                 OLS Regression Results                                 \n",
       "========================================================================================\n",
       "Dep. Variable:     CRSP_SPvw_ExcessRet   R-squared (uncentered):                   0.028\n",
       "Model:                             OLS   Adj. R-squared (uncentered):              0.025\n",
       "Method:                  Least Squares   F-statistic:                              8.372\n",
       "Date:                 Sun, 24 Mar 2024   Prob (F-statistic):                    1.72e-05\n",
       "Time:                         19:32:01   Log-Likelihood:                          1530.2\n",
       "No. Observations:                  876   AIC:                                     -3054.\n",
       "Df Residuals:                      873   BIC:                                     -3040.\n",
       "Df Model:                            3                                                  \n",
       "Covariance Type:             nonrobust                                                  \n",
       "==============================================================================\n",
       "                 coef    std err          t      P>|t|      [0.025      0.975]\n",
       "------------------------------------------------------------------------------\n",
       "d/p            0.1675      0.220      0.760      0.447      -0.265       0.600\n",
       "e/p           -0.0637      0.105     -0.608      0.543      -0.269       0.142\n",
       "bondspread     0.2227      0.073      3.055      0.002       0.080       0.366\n",
       "==============================================================================\n",
       "Omnibus:                       64.445   Durbin-Watson:                   1.958\n",
       "Prob(Omnibus):                  0.000   Jarque-Bera (JB):              134.411\n",
       "Skew:                          -0.456   Prob(JB):                     6.50e-30\n",
       "Kurtosis:                       4.688   Cond. No.                         13.8\n",
       "==============================================================================\n",
       "\n",
       "Notes:\n",
       "[1] R² is computed without centering (uncentered) since the model does not contain a constant.\n",
       "[2] Standard Errors assume that the covariance matrix of the errors is correctly specified.\n",
       "\"\"\""
      ]
     },
     "execution_count": 3,
     "metadata": {},
     "output_type": "execute_result"
    }
   ],
   "source": [
    "model01=sm.OLS(data['CRSP_SPvw_ExcessRet'],\\\n",
    "               data[['d/p', 'e/p', 'bondspread']]).fit()\n",
    "model01.summary()"
   ]
  },
  {
   "cell_type": "code",
   "execution_count": 4,
   "id": "40456a55",
   "metadata": {},
   "outputs": [
    {
     "data": {
      "text/html": [
       "<table class=\"simpletable\">\n",
       "<caption>OLS Regression Results</caption>\n",
       "<tr>\n",
       "  <th>Dep. Variable:</th>    <td>CRSP_SPvw_ExcessRet</td> <th>  R-squared (uncentered):</th>      <td>   0.028</td>\n",
       "</tr>\n",
       "<tr>\n",
       "  <th>Model:</th>                    <td>OLS</td>         <th>  Adj. R-squared (uncentered):</th> <td>   0.025</td>\n",
       "</tr>\n",
       "<tr>\n",
       "  <th>Method:</th>              <td>Least Squares</td>    <th>  F-statistic:       </th>          <td>   6.877</td>\n",
       "</tr>\n",
       "<tr>\n",
       "  <th>Date:</th>              <td>Sun, 24 Mar 2024</td>   <th>  Prob (F-statistic):</th>          <td>0.000140</td>\n",
       "</tr>\n",
       "<tr>\n",
       "  <th>Time:</th>                  <td>19:32:01</td>       <th>  Log-Likelihood:    </th>          <td>  1530.2</td>\n",
       "</tr>\n",
       "<tr>\n",
       "  <th>No. Observations:</th>       <td>   876</td>        <th>  AIC:               </th>          <td>  -3054.</td>\n",
       "</tr>\n",
       "<tr>\n",
       "  <th>Df Residuals:</th>           <td>   873</td>        <th>  BIC:               </th>          <td>  -3040.</td>\n",
       "</tr>\n",
       "<tr>\n",
       "  <th>Df Model:</th>               <td>     3</td>        <th>                     </th>              <td> </td>   \n",
       "</tr>\n",
       "<tr>\n",
       "  <th>Covariance Type:</th>          <td>HAC</td>         <th>                     </th>              <td> </td>   \n",
       "</tr>\n",
       "</table>\n",
       "<table class=\"simpletable\">\n",
       "<tr>\n",
       "       <td></td>         <th>coef</th>     <th>std err</th>      <th>t</th>      <th>P>|t|</th>  <th>[0.025</th>    <th>0.975]</th>  \n",
       "</tr>\n",
       "<tr>\n",
       "  <th>d/p</th>        <td>    0.1675</td> <td>    0.259</td> <td>    0.647</td> <td> 0.518</td> <td>   -0.341</td> <td>    0.676</td>\n",
       "</tr>\n",
       "<tr>\n",
       "  <th>e/p</th>        <td>   -0.0637</td> <td>    0.131</td> <td>   -0.486</td> <td> 0.627</td> <td>   -0.321</td> <td>    0.193</td>\n",
       "</tr>\n",
       "<tr>\n",
       "  <th>bondspread</th> <td>    0.2227</td> <td>    0.083</td> <td>    2.671</td> <td> 0.008</td> <td>    0.059</td> <td>    0.386</td>\n",
       "</tr>\n",
       "</table>\n",
       "<table class=\"simpletable\">\n",
       "<tr>\n",
       "  <th>Omnibus:</th>       <td>64.445</td> <th>  Durbin-Watson:     </th> <td>   1.958</td>\n",
       "</tr>\n",
       "<tr>\n",
       "  <th>Prob(Omnibus):</th> <td> 0.000</td> <th>  Jarque-Bera (JB):  </th> <td> 134.411</td>\n",
       "</tr>\n",
       "<tr>\n",
       "  <th>Skew:</th>          <td>-0.456</td> <th>  Prob(JB):          </th> <td>6.50e-30</td>\n",
       "</tr>\n",
       "<tr>\n",
       "  <th>Kurtosis:</th>      <td> 4.688</td> <th>  Cond. No.          </th> <td>    13.8</td>\n",
       "</tr>\n",
       "</table><br/><br/>Notes:<br/>[1] R² is computed without centering (uncentered) since the model does not contain a constant.<br/>[2] Standard Errors are heteroscedasticity and autocorrelation robust (HAC) using 1 lags and without small sample correction"
      ],
      "text/plain": [
       "<class 'statsmodels.iolib.summary.Summary'>\n",
       "\"\"\"\n",
       "                                 OLS Regression Results                                 \n",
       "========================================================================================\n",
       "Dep. Variable:     CRSP_SPvw_ExcessRet   R-squared (uncentered):                   0.028\n",
       "Model:                             OLS   Adj. R-squared (uncentered):              0.025\n",
       "Method:                  Least Squares   F-statistic:                              6.877\n",
       "Date:                 Sun, 24 Mar 2024   Prob (F-statistic):                    0.000140\n",
       "Time:                         19:32:01   Log-Likelihood:                          1530.2\n",
       "No. Observations:                  876   AIC:                                     -3054.\n",
       "Df Residuals:                      873   BIC:                                     -3040.\n",
       "Df Model:                            3                                                  \n",
       "Covariance Type:                   HAC                                                  \n",
       "==============================================================================\n",
       "                 coef    std err          t      P>|t|      [0.025      0.975]\n",
       "------------------------------------------------------------------------------\n",
       "d/p            0.1675      0.259      0.647      0.518      -0.341       0.676\n",
       "e/p           -0.0637      0.131     -0.486      0.627      -0.321       0.193\n",
       "bondspread     0.2227      0.083      2.671      0.008       0.059       0.386\n",
       "==============================================================================\n",
       "Omnibus:                       64.445   Durbin-Watson:                   1.958\n",
       "Prob(Omnibus):                  0.000   Jarque-Bera (JB):              134.411\n",
       "Skew:                          -0.456   Prob(JB):                     6.50e-30\n",
       "Kurtosis:                       4.688   Cond. No.                         13.8\n",
       "==============================================================================\n",
       "\n",
       "Notes:\n",
       "[1] R² is computed without centering (uncentered) since the model does not contain a constant.\n",
       "[2] Standard Errors are heteroscedasticity and autocorrelation robust (HAC) using 1 lags and without small sample correction\n",
       "\"\"\""
      ]
     },
     "execution_count": 4,
     "metadata": {},
     "output_type": "execute_result"
    }
   ],
   "source": [
    "model02=sm.OLS(data['CRSP_SPvw_ExcessRet'],\\\n",
    "               data[['d/p', 'e/p', 'bondspread']]).fit(cov_type='HAC',\n",
    "                                                       cov_kwds={'maxlags':1},\n",
    "                                                       use_t=True)\n",
    "model02.summary()"
   ]
  },
  {
   "cell_type": "code",
   "execution_count": null,
   "id": "52fe3d55",
   "metadata": {},
   "outputs": [],
   "source": []
  },
  {
   "cell_type": "markdown",
   "id": "2eb0667e",
   "metadata": {},
   "source": [
    "### For Q3 and 4: Monthly"
   ]
  },
  {
   "cell_type": "markdown",
   "id": "66b9cdb6",
   "metadata": {},
   "source": [
    "### Regression of one-year CRSP equal-weighted index real return on book-to-market"
   ]
  },
  {
   "cell_type": "code",
   "execution_count": 5,
   "id": "0f5a7d35",
   "metadata": {},
   "outputs": [],
   "source": [
    "eq01=sm.OLS(data['CRSP_SPvw_ExcessRet'].iloc[:-1], sm.add_constant(data[['b/m']].iloc[:-1])).fit()\n",
    "eq02=sm.OLS(data['b/m'].iloc[:-1], sm.add_constant(data[['b/m']].shift(-1).iloc[:-1])).fit()"
   ]
  },
  {
   "cell_type": "code",
   "execution_count": 6,
   "id": "0e1fc3ea",
   "metadata": {},
   "outputs": [
    {
     "name": "stdout",
     "output_type": "stream",
     "text": [
      "beta (b) = -0.008810010639129801, adjust the estimator of beta (b_A) = -0.008765870667069206\n",
      "rho = 0.9946190833494777, a bias-adjusted estimator for rho = 0.0017498333976895435\n",
      "alpha = 0.01111134119876602, theta = 0.0033597254073386767\n"
     ]
    }
   ],
   "source": [
    "# adjust the estimator of beta\n",
    "T=data.shape[0]\n",
    "p=eq01.pvalues.iloc[0]\n",
    "pA=(T*p+1)/(T-3) # a bias-adjusted estimator for rho\n",
    "\n",
    "b=eq01.params.iloc[1]\n",
    "rho=eq02.params.iloc[1]\n",
    "alpha=eq01.params.iloc[0]\n",
    "theta=eq02.params.iloc[0]\n",
    "\n",
    "s=np.cov(eq01.resid, eq02.resid)\n",
    "s_epsilon_mu=s[0,1]\n",
    "s_mu_2=s[1,1]\n",
    "bA=b+(s_epsilon_mu/s_mu_2)*(1+3*pA)/T\n",
    "\n",
    "print(\"beta (b) = {}, adjust the estimator of beta (b_A) = {}\".format(b, bA))\n",
    "print(\"rho = {}, a bias-adjusted estimator for rho = {}\".format(rho, pA))\n",
    "print(\"alpha = {}, theta = {}\".format(alpha, theta))\n",
    "\n",
    "epsilon_hat=eq01.resid\n",
    "mu_hat=eq02.resid"
   ]
  },
  {
   "cell_type": "markdown",
   "id": "0adbe423",
   "metadata": {},
   "source": [
    "### Simulation Procedure"
   ]
  },
  {
   "cell_type": "code",
   "execution_count": 7,
   "id": "962fdf10",
   "metadata": {},
   "outputs": [],
   "source": [
    "T=200\n",
    "M=1000 # Simulation times\n",
    "beta=0 # null hypothesis\n",
    "rho=pA\n",
    "beta_list=[]\n",
    "pval_list=[]\n",
    "\n",
    "for i in range(1, M):\n",
    "    \n",
    "    rand_list = choices(range(1, len(epsilon_hat)), k=T)\n",
    "    r=alpha+beta+epsilon_hat[rand_list]\n",
    "    x=theta+rho*data[['b/m']].shift(-1).iloc[:-1].values.T[0][rand_list]+mu_hat[rand_list]\n",
    "    eq=sm.OLS(r, sm.add_constant(x)).fit()\n",
    "    beta_list.append(eq.params[0])\n",
    "    pval_list.append(eq.pvalues[0])"
   ]
  },
  {
   "cell_type": "code",
   "execution_count": 8,
   "id": "fd8ad52c",
   "metadata": {
    "scrolled": false
   },
   "outputs": [
    {
     "data": {
      "image/png": "[encoded data removed]",
      "text/plain": [
       "<Figure size 640x480 with 1 Axes>"
      ]
     },
     "metadata": {},
     "output_type": "display_data"
    }
   ],
   "source": [
    "# We get an empirical distribution of b under the null.\n",
    "count, bins, ignored = plt.hist(beta_list, 100, density=True)"
   ]
  },
  {
   "cell_type": "code",
   "execution_count": 9,
   "id": "eb209262",
   "metadata": {},
   "outputs": [
    {
     "data": {
      "image/png": "[encoded data removed]",
      "text/plain": [
       "<Figure size 640x480 with 1 Axes>"
      ]
     },
     "metadata": {},
     "output_type": "display_data"
    }
   ],
   "source": [
    "# p value based on the simulated empirical distribution of the point estimates\n",
    "count, bins, ignored = plt.hist(pval_list, 100, density=True)"
   ]
  },
  {
   "cell_type": "code",
   "execution_count": null,
   "id": "43a1113c",
   "metadata": {},
   "outputs": [],
   "source": []
  },
  {
   "cell_type": "markdown",
   "id": "45c624c5",
   "metadata": {},
   "source": [
    "### For Q3 and 4: Quarterly"
   ]
  },
  {
   "cell_type": "code",
   "execution_count": 10,
   "id": "4bd7d2ba",
   "metadata": {},
   "outputs": [],
   "source": [
    "data_q=data[(data['mm']==3)|\\\n",
    "            (data['mm']==6)|\\\n",
    "            (data['mm']==9)|\\\n",
    "            (data['mm']==12)].reset_index(drop=True)"
   ]
  },
  {
   "cell_type": "markdown",
   "id": "59cce02d",
   "metadata": {},
   "source": [
    "### Regression of one-year CRSP equal-weighted index real return on book-to-market"
   ]
  },
  {
   "cell_type": "code",
   "execution_count": 11,
   "id": "cb020dec",
   "metadata": {},
   "outputs": [],
   "source": [
    "eq01=sm.OLS(data_q['CRSP_SPvw_ExcessRet'].iloc[:-1],\\\n",
    "            sm.add_constant(data_q[['b/m']].iloc[:-1])).fit()\n",
    "eq02=sm.OLS(data_q['b/m'].iloc[:-1],\\\n",
    "            sm.add_constant(data_q[['b/m']].shift(-1).iloc[:-1])).fit()"
   ]
  },
  {
   "cell_type": "code",
   "execution_count": 12,
   "id": "778ddd18",
   "metadata": {},
   "outputs": [
    {
     "name": "stdout",
     "output_type": "stream",
     "text": [
      "beta (b) = -0.011782371834605974, adjust the estimator of beta (b_A) = -0.011998904457319503\n",
      "rho = 0.9825325220235576, a bias-adjusted estimator for rho = 0.06917643354358285\n",
      "alpha = 0.009455477634649488, theta = 0.010901170203535418\n"
     ]
    }
   ],
   "source": [
    "# adjust the estimator of beta\n",
    "T=data_q.shape[0]\n",
    "p=eq01.pvalues.iloc[0]\n",
    "pA=(T*p+1)/(T-3) # a bias-adjusted estimator for rho\n",
    "\n",
    "b=eq01.params.iloc[1]\n",
    "rho=eq02.params.iloc[1]\n",
    "alpha=eq01.params.iloc[0]\n",
    "theta=eq02.params.iloc[0]\n",
    "\n",
    "s=np.cov(eq01.resid, eq02.resid)\n",
    "s_epsilon_mu=s[0,1]\n",
    "s_mu_2=s[1,1]\n",
    "bA=b+(s_epsilon_mu/s_mu_2)*(1+3*pA)/T\n",
    "\n",
    "print(\"beta (b) = {}, adjust the estimator of beta (b_A) = {}\".format(b, bA))\n",
    "print(\"rho = {}, a bias-adjusted estimator for rho = {}\".format(rho, pA))\n",
    "print(\"alpha = {}, theta = {}\".format(alpha, theta))\n",
    "\n",
    "epsilon_hat=eq01.resid\n",
    "mu_hat=eq02.resid"
   ]
  },
  {
   "cell_type": "markdown",
   "id": "85dff9ce",
   "metadata": {},
   "source": [
    "### Simulation Procedure"
   ]
  },
  {
   "cell_type": "code",
   "execution_count": 13,
   "id": "603c6461",
   "metadata": {},
   "outputs": [],
   "source": [
    "T=200\n",
    "M=1000 # Simulation times\n",
    "beta=0 # null hypothesis\n",
    "rho=pA\n",
    "beta_list=[]\n",
    "pval_list=[]\n",
    "\n",
    "for i in range(1, M):\n",
    "    \n",
    "    rand_list = choices(range(1, len(epsilon_hat)), k=T)\n",
    "    r=alpha+beta+epsilon_hat[rand_list]\n",
    "    x=theta+rho*data_q[['b/m']].shift(-1).iloc[:-1].values.T[0][rand_list]+mu_hat[rand_list]\n",
    "    eq=sm.OLS(r, sm.add_constant(x)).fit()\n",
    "    beta_list.append(eq.params[0])\n",
    "    pval_list.append(eq.pvalues[0])"
   ]
  },
  {
   "cell_type": "code",
   "execution_count": 14,
   "id": "87a60983",
   "metadata": {},
   "outputs": [
    {
     "data": {
      "image/png": "[encoded data removed]",
      "text/plain": [
       "<Figure size 640x480 with 1 Axes>"
      ]
     },
     "metadata": {},
     "output_type": "display_data"
    }
   ],
   "source": [
    "# We get an empirical distribution of b under the null.\n",
    "count, bins, ignored = plt.hist(beta_list, 100, density=True)"
   ]
  },
  {
   "cell_type": "code",
   "execution_count": 15,
   "id": "54fec95a",
   "metadata": {},
   "outputs": [
    {
     "data": {
      "image/png": "[encoded data removed]",
      "text/plain": [
       "<Figure size 640x480 with 1 Axes>"
      ]
     },
     "metadata": {},
     "output_type": "display_data"
    }
   ],
   "source": [
    "# p value based on the simulated empirical distribution of the point estimates\n",
    "count, bins, ignored = plt.hist(pval_list, 100, density=True)"
   ]
  },
  {
   "cell_type": "code",
   "execution_count": null,
   "id": "1f116d96",
   "metadata": {},
   "outputs": [],
   "source": []
  }
 ],
 "metadata": {
  "kernelspec": {
   "display_name": "Python 3 (ipykernel)",
   "language": "python",
   "name": "python3"
  },
  "language_info": {
   "codemirror_mode": {
    "name": "ipython",
    "version": 3
   },
   "file_extension": ".py",
   "mimetype": "text/x-python",
   "name": "python",
   "nbconvert_exporter": "python",
   "pygments_lexer": "ipython3",
   "version": "3.10.9"
  }
 },
 "nbformat": 4,
 "nbformat_minor": 5
}
