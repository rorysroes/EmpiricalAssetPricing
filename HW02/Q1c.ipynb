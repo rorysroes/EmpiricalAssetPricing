{
 "cells": [
  {
   "cell_type": "markdown",
   "id": "ca484b3a",
   "metadata": {},
   "source": [
    "### Extend from '01/01/1965' to '12/29/2023'"
   ]
  },
  {
   "cell_type": "code",
   "execution_count": 8,
   "id": "c11071fd",
   "metadata": {},
   "outputs": [
    {
     "name": "stdout",
     "output_type": "stream",
     "text": [
      "Enter your WRDS username [rory]:rorysrose\n",
      "Enter your password:········\n",
      "WRDS recommends setting up a .pgpass file.\n",
      "Create .pgpass file now [y/n]?: y\n",
      "Created .pgpass file successfully.\n",
      "You can create this file yourself at any time with the create_pgpass_file() function.\n",
      "Loading library list...\n",
      "Done\n"
     ]
    }
   ],
   "source": [
    "import pandas as pd\n",
    "import numpy as np\n",
    "import wrds\n",
    "import statsmodels.api as sm\n",
    "import getFamaFrenchFactors as gff\n",
    "\n",
    "# Download CRSP stock information\n",
    "conn = wrds.Connection()\n",
    "crsp = conn.raw_sql(\"\"\"\n",
    "                      select a.permno, \n",
    "                      a.permco,\n",
    "                      a.date, \n",
    "                      b.shrcd, \n",
    "                      b.exchcd, \n",
    "                      a.ret, \n",
    "                      a.vol, \n",
    "                      a.shrout, \n",
    "                      a.prc\n",
    "                      from crsp.msf as a\n",
    "                      left join crsp.msenames as b\n",
    "                      on a.permno=b.permno\n",
    "                      and b.namedt<=a.date\n",
    "                      and a.date<=b.nameendt\n",
    "                      where a.date between '01/01/1965' and '12/29/2023'\n",
    "                      and b.exchcd between 1 and 3\n",
    "                      and b.shrcd between 10 and 11\n",
    "                      \"\"\")\n",
    "\n",
    "# Download Fama and French 3 Factors\n",
    "ff3 = gff.famaFrench3Factor(frequency='m')\n",
    "ff3['date']=pd.to_datetime(ff3['date_ff_factors'], format='%Y-%m-%d')\n",
    "ff3['year-month']=ff3['date'].apply(lambda x:str(x.year)+'-'+str(x.month))"
   ]
  },
  {
   "cell_type": "code",
   "execution_count": null,
   "id": "b53618e0",
   "metadata": {},
   "outputs": [],
   "source": []
  },
  {
   "cell_type": "code",
   "execution_count": 9,
   "id": "d39112d2",
   "metadata": {},
   "outputs": [],
   "source": [
    "df=crsp\n",
    "df['date']=pd.to_datetime(df['date'], format='%Y-%m-%d')\n",
    "df['prc']=df['prc'].apply(lambda x: abs(x))\n",
    "df['year-month']=df['date'].apply(lambda x:str(x.year)+'-'+str(x.month))\n",
    "df.sort_values(by=['permno', 'date'], ascending=True, inplace=True)\n",
    "df=df.reset_index(drop=True)\n",
    "df['logret'] = np.log(1+df['ret'])"
   ]
  },
  {
   "cell_type": "code",
   "execution_count": 10,
   "id": "af69c148",
   "metadata": {},
   "outputs": [],
   "source": [
    "lagged=6 # J-month lagged returns\n",
    "holdingperiod=6 # K-month holding returns\n",
    "skipmonth=1\n",
    "\n",
    "df['momentum_{}_logreturn'.format(lagged)] =\\\n",
    "np.exp(df.groupby('permno')['logret'].rolling(lagged).sum().reset_index(drop=True))-1\n",
    "df['holding_{}_skip_{}_logreturn'.format(holdingperiod, skipmonth)] =\\\n",
    "np.exp(df.groupby('permno')['logret'].rolling(\n",
    "    holdingperiod).sum().reset_index(drop=True).shift(\n",
    "    -holdingperiod-skipmonth))-1\n",
    "df_=df.dropna().reset_index(drop=True)"
   ]
  },
  {
   "cell_type": "code",
   "execution_count": 11,
   "id": "b595d376",
   "metadata": {},
   "outputs": [],
   "source": [
    "# remove some extreme values\n",
    "percentile=0.01\n",
    "bottom_extreme_value=df_['momentum_6_logreturn'].quantile(percentile)\n",
    "top_extreme_value=df_['momentum_6_logreturn'].quantile(1-percentile)\n",
    "df_=\\\n",
    "df_[(df_['momentum_6_logreturn'] >= bottom_extreme_value)&\\\n",
    "    (df_['momentum_6_logreturn'] <= top_extreme_value)].reset_index(drop=True)\n",
    "\n",
    "num_percentile=10\n",
    "df_['momentum_{}_logreturn_rank_{}_{}'.format(lagged,\\\n",
    "                                              1,\\\n",
    "                                              num_percentile)]=\\\n",
    "df_.groupby('date')['momentum_{}_logreturn'.format(lagged)].transform(\n",
    "    lambda x: pd.qcut(x.rank(),\n",
    "                      num_percentile,\n",
    "                      labels=False))+1"
   ]
  },
  {
   "cell_type": "code",
   "execution_count": 12,
   "id": "b0dd3b0a",
   "metadata": {},
   "outputs": [],
   "source": [
    "_df_=\\\n",
    "df_.groupby(['date',\n",
    "             'momentum_{}_logreturn_rank_{}_{}'.format(lagged, 1, num_percentile)]\n",
    "           )['holding_{}_skip_{}_logreturn'.format(holdingperiod, skipmonth)].mean().reset_index(drop=False)"
   ]
  },
  {
   "cell_type": "code",
   "execution_count": 15,
   "id": "908eece4",
   "metadata": {},
   "outputs": [
    {
     "data": {
      "text/html": [
       "<div>\n",
       "<style scoped>\n",
       "    .dataframe tbody tr th:only-of-type {\n",
       "        vertical-align: middle;\n",
       "    }\n",
       "\n",
       "    .dataframe tbody tr th {\n",
       "        vertical-align: top;\n",
       "    }\n",
       "\n",
       "    .dataframe thead th {\n",
       "        text-align: right;\n",
       "    }\n",
       "</style>\n",
       "<table border=\"1\" class=\"dataframe\">\n",
       "  <thead>\n",
       "    <tr style=\"text-align: right;\">\n",
       "      <th></th>\n",
       "      <th>date</th>\n",
       "      <th>momentum_6_logreturn_rank_1_10</th>\n",
       "      <th>holding_6_skip_1_logreturn</th>\n",
       "    </tr>\n",
       "  </thead>\n",
       "  <tbody>\n",
       "    <tr>\n",
       "      <th>0</th>\n",
       "      <td>1965-06-30</td>\n",
       "      <td>1</td>\n",
       "      <td>0.364855</td>\n",
       "    </tr>\n",
       "    <tr>\n",
       "      <th>1</th>\n",
       "      <td>1965-06-30</td>\n",
       "      <td>2</td>\n",
       "      <td>0.290408</td>\n",
       "    </tr>\n",
       "    <tr>\n",
       "      <th>2</th>\n",
       "      <td>1965-06-30</td>\n",
       "      <td>3</td>\n",
       "      <td>0.275600</td>\n",
       "    </tr>\n",
       "    <tr>\n",
       "      <th>3</th>\n",
       "      <td>1965-06-30</td>\n",
       "      <td>4</td>\n",
       "      <td>0.261634</td>\n",
       "    </tr>\n",
       "    <tr>\n",
       "      <th>4</th>\n",
       "      <td>1965-06-30</td>\n",
       "      <td>5</td>\n",
       "      <td>0.216780</td>\n",
       "    </tr>\n",
       "    <tr>\n",
       "      <th>...</th>\n",
       "      <td>...</td>\n",
       "      <td>...</td>\n",
       "      <td>...</td>\n",
       "    </tr>\n",
       "    <tr>\n",
       "      <th>7025</th>\n",
       "      <td>2023-12-29</td>\n",
       "      <td>6</td>\n",
       "      <td>-0.008247</td>\n",
       "    </tr>\n",
       "    <tr>\n",
       "      <th>7026</th>\n",
       "      <td>2023-12-29</td>\n",
       "      <td>7</td>\n",
       "      <td>-0.002059</td>\n",
       "    </tr>\n",
       "    <tr>\n",
       "      <th>7027</th>\n",
       "      <td>2023-12-29</td>\n",
       "      <td>8</td>\n",
       "      <td>0.001576</td>\n",
       "    </tr>\n",
       "    <tr>\n",
       "      <th>7028</th>\n",
       "      <td>2023-12-29</td>\n",
       "      <td>9</td>\n",
       "      <td>0.006630</td>\n",
       "    </tr>\n",
       "    <tr>\n",
       "      <th>7029</th>\n",
       "      <td>2023-12-29</td>\n",
       "      <td>10</td>\n",
       "      <td>-0.020350</td>\n",
       "    </tr>\n",
       "  </tbody>\n",
       "</table>\n",
       "<p>7030 rows × 3 columns</p>\n",
       "</div>"
      ],
      "text/plain": [
       "           date  momentum_6_logreturn_rank_1_10  holding_6_skip_1_logreturn\n",
       "0    1965-06-30                               1                    0.364855\n",
       "1    1965-06-30                               2                    0.290408\n",
       "2    1965-06-30                               3                    0.275600\n",
       "3    1965-06-30                               4                    0.261634\n",
       "4    1965-06-30                               5                    0.216780\n",
       "...         ...                             ...                         ...\n",
       "7025 2023-12-29                               6                   -0.008247\n",
       "7026 2023-12-29                               7                   -0.002059\n",
       "7027 2023-12-29                               8                    0.001576\n",
       "7028 2023-12-29                               9                    0.006630\n",
       "7029 2023-12-29                              10                   -0.020350\n",
       "\n",
       "[7030 rows x 3 columns]"
      ]
     },
     "execution_count": 15,
     "metadata": {},
     "output_type": "execute_result"
    }
   ],
   "source": [
    "_df_"
   ]
  },
  {
   "cell_type": "code",
   "execution_count": null,
   "id": "8d057cfb",
   "metadata": {},
   "outputs": [],
   "source": []
  },
  {
   "cell_type": "markdown",
   "id": "9f7709cb",
   "metadata": {},
   "source": [
    "### Extend Q1 a to the most recent data ('01/01/1965' to '2/29/2024')."
   ]
  },
  {
   "cell_type": "code",
   "execution_count": 7,
   "id": "7131f1d4",
   "metadata": {},
   "outputs": [
    {
     "name": "stdout",
     "output_type": "stream",
     "text": [
      "portfolio: 1, mean: 0.006260296200799513, t stat: 1.861330613713324\n",
      "portfolio: 2, mean: 0.007927318729602987, t stat: 2.940434403010609\n",
      "portfolio: 3, mean: 0.009704437027607931, t stat: 4.157250852766279\n",
      "portfolio: 4, mean: 0.011189090620285827, t stat: 5.1765532109615116\n",
      "portfolio: 5, mean: 0.011506218474050603, t stat: 5.760647791224003\n",
      "portfolio: 6, mean: 0.011853585452971835, t stat: 6.194696670160636\n",
      "portfolio: 7, mean: 0.012361356038984063, t stat: 6.530216871973713\n",
      "portfolio: 8, mean: 0.013001653988327717, t stat: 6.737390034804002\n",
      "portfolio: 9, mean: 0.014023789252845737, t stat: 6.557791679340448\n",
      "portfolio: 10, mean: 0.015598188728516146, t stat: 5.932331760379424\n",
      "portfolio: 10-1, mean: 0.009337892527716633, t stat: 5.381634216219918\n",
      "\n",
      "The results still hold.\n"
     ]
    }
   ],
   "source": [
    "list_portfolio_rank=[1,2,3,4,5,6,7,8,9,10,\"10-1\"]\n",
    "for i in list_portfolio_rank[0:]:\n",
    "    \n",
    "    if i==\"10-1\":\n",
    "        \n",
    "        data_low=_df_[_df_['momentum_{}_logreturn_rank_{}_{}'.format(lagged,\n",
    "                                                                     1,\n",
    "                                                                     num_percentile)\n",
    "                          ]==1].reset_index(drop=True)\n",
    "        data_high=_df_[_df_['momentum_{}_logreturn_rank_{}_{}'.format(lagged,\n",
    "                                                                      1,\n",
    "                                                                      num_percentile)\n",
    "                           ]==10].reset_index(drop=True)\n",
    "        \n",
    "        result_return=\\\n",
    "        data_high['holding_{}_skip_{}_logreturn'.format(holdingperiod, skipmonth)]-\\\n",
    "        data_low['holding_{}_skip_{}_logreturn'.format(holdingperiod, skipmonth)]\n",
    "            \n",
    "        reg_mean=\\\n",
    "        sm.OLS(result_return/holdingperiod,\n",
    "               [1 for i in range(result_return.shape[0])]).fit(cov_type='HAC',\n",
    "                                                               cov_kwds={'maxlags':lagged},\n",
    "                                                               use_t=True).params.iloc[0]\n",
    "\n",
    "        reg_t_stat=\\\n",
    "        sm.OLS(result_return/holdingperiod,\n",
    "               [1 for i in range(result_return.shape[0])]).fit(cov_type='HAC',\n",
    "                                                               cov_kwds={'maxlags':lagged},\n",
    "                                                               use_t=True).tvalues.iloc[0]\n",
    "        \n",
    "        print(\"portfolio: {}, mean: {}, t stat: {}\".format(i, reg_mean, reg_t_stat))\n",
    "        \n",
    "    else:\n",
    "        \n",
    "        data=_df_[_df_['momentum_{}_logreturn_rank_{}_{}'.format(lagged,\n",
    "                                                                 1,\n",
    "                                                                 num_percentile)\n",
    "                      ]==i].reset_index(drop=True)\n",
    "\n",
    "        result_return=\\\n",
    "        data['holding_{}_skip_{}_logreturn'.format(holdingperiod, skipmonth)]\n",
    "\n",
    "        reg_mean=\\\n",
    "        sm.OLS(result_return/holdingperiod,\n",
    "               [1 for i in range(result_return.shape[0])]).fit(cov_type='HAC',\n",
    "                                                               cov_kwds={'maxlags':lagged},\n",
    "                                                               use_t=True).params.iloc[0]\n",
    "\n",
    "        reg_t_stat=\\\n",
    "        sm.OLS(result_return/holdingperiod,\n",
    "               [1 for i in range(result_return.shape[0])]).fit(cov_type='HAC',\n",
    "                                                               cov_kwds={'maxlags':lagged},\n",
    "                                                               use_t=True).tvalues.iloc[0]\n",
    "        \n",
    "        print(\"portfolio: {}, mean: {}, t stat: {}\".format(i, reg_mean, reg_t_stat))\n",
    "        \n",
    "print(\"\")\n",
    "print(\"The results still hold although means decrease a little bit.\")"
   ]
  },
  {
   "cell_type": "code",
   "execution_count": null,
   "id": "b1d0fc15",
   "metadata": {},
   "outputs": [],
   "source": []
  },
  {
   "cell_type": "markdown",
   "id": "4ff1fe47",
   "metadata": {},
   "source": [
    "### Merge with Fama French 3 Factors"
   ]
  },
  {
   "cell_type": "code",
   "execution_count": 27,
   "id": "3689e4e0",
   "metadata": {},
   "outputs": [],
   "source": [
    "_df_=\\\n",
    "df_.groupby(['date',\n",
    "             'momentum_{}_logreturn_rank_{}_{}'.format(lagged, 1, num_percentile)]\n",
    "           )['holding_{}_skip_{}_logreturn'.format(holdingperiod, skipmonth)].mean().reset_index(drop=False)\n",
    "_df_['holding_{}_skip_{}_logreturn'.format(holdingperiod, skipmonth)]=\\\n",
    "_df_['holding_{}_skip_{}_logreturn'.format(holdingperiod, skipmonth)]/6 # monthly return\n",
    "\n",
    "_df_portfolio=\\\n",
    "_df_.pivot(index='date',\n",
    "           columns='momentum_{}_logreturn_rank_{}_{}'.format(lagged, 1, num_percentile),\n",
    "           values='holding_{}_skip_{}_logreturn'.format(holdingperiod, skipmonth)).reset_index(drop=False)\n",
    "_df_portfolio['year-month']=\\\n",
    "_df_portfolio['date'].apply(lambda x: str(x.year)+'-'+str(x.month))\n",
    "\n",
    "table = pd.merge(_df_portfolio,\n",
    "                 ff3.drop(columns = ['date', 'date_ff_factors']),\n",
    "                 how='left', on=['year-month'])\n",
    "table['10-1']=table[10]-table[1]"
   ]
  },
  {
   "cell_type": "code",
   "execution_count": null,
   "id": "0cd5a274",
   "metadata": {},
   "outputs": [],
   "source": []
  },
  {
   "cell_type": "markdown",
   "id": "6eeaa43a",
   "metadata": {},
   "source": [
    "### CAPM"
   ]
  },
  {
   "cell_type": "code",
   "execution_count": 30,
   "id": "78893ab5",
   "metadata": {},
   "outputs": [
    {
     "name": "stdout",
     "output_type": "stream",
     "text": [
      "portfolio: 1, alpha: 0.002784888890821373, t stat: 0.8108563866620047\n",
      "portfolio: 2, alpha: 0.004419000042484615, t stat: 1.5978072842545064\n",
      "portfolio: 3, alpha: 0.006168118953962684, t stat: 2.5822162149364587\n",
      "portfolio: 4, alpha: 0.0076494412460688145, t stat: 3.4600817873015144\n",
      "portfolio: 5, alpha: 0.007887533561775175, t stat: 3.8846301916164947\n",
      "portfolio: 6, alpha: 0.008245981413033381, t stat: 4.2530942220532495\n",
      "portfolio: 7, alpha: 0.008752959214989298, t stat: 4.57645980429064\n",
      "portfolio: 8, alpha: 0.009353110542539018, t stat: 4.8062775215795215\n",
      "portfolio: 9, alpha: 0.010414084075443617, t stat: 4.822283430745048\n",
      "portfolio: 10, alpha: 0.011932435654748016, t stat: 4.516764653387988\n",
      "portfolio: 10-1, alpha: 0.005469366071958881, t stat: 3.130572188753375\n",
      "\n",
      "The results remain valid, despite a slight decrease in means.\n"
     ]
    }
   ],
   "source": [
    "list_portfolio_rank=[1,2,3,4,5,6,7,8,9,10,\"10-1\"]\n",
    "\n",
    "for i in list_portfolio_rank[0:]:\n",
    "    \n",
    "    table['avg_return_{}'.format(i)] = table[i] - table[\"RF\"]\n",
    "    X = table[[\"Mkt-RF\"]].values\n",
    "    X = sm.add_constant(X)\n",
    "    y = table['avg_return_{}'.format(i)].values\n",
    "    \n",
    "    reg_mean=\\\n",
    "    sm.OLS(y,X).fit(cov_type='HAC',\n",
    "                    cov_kwds={'maxlags': lagged},\n",
    "                    use_t=True).params[0]\n",
    "\n",
    "    reg_t_stat=\\\n",
    "    sm.OLS(y,X).fit(cov_type='HAC',\n",
    "                    cov_kwds={'maxlags': lagged},\n",
    "                    use_t=True).tvalues[0]\n",
    "    \n",
    "    print(\"portfolio: {}, alpha: {}, t stat: {}\".format(i, reg_mean, reg_t_stat))\n",
    "\n",
    "print(\"\")\n",
    "print(\"The results remain valid, despite a slight decrease in means.\")"
   ]
  },
  {
   "cell_type": "code",
   "execution_count": null,
   "id": "53d71eff",
   "metadata": {},
   "outputs": [],
   "source": []
  },
  {
   "cell_type": "markdown",
   "id": "ebc43ac0",
   "metadata": {},
   "source": [
    "### Fama-French three-factor alpha"
   ]
  },
  {
   "cell_type": "code",
   "execution_count": 31,
   "id": "27847390",
   "metadata": {},
   "outputs": [
    {
     "name": "stdout",
     "output_type": "stream",
     "text": [
      "portfolio: 1, alpha: 0.003532866014252679, t stat: 1.0137807877803233\n",
      "portfolio: 2, alpha: 0.0050453190495915986, t stat: 1.7930656890797347\n",
      "portfolio: 3, alpha: 0.0065685385012084286, t stat: 2.6952742903434452\n",
      "portfolio: 4, alpha: 0.00805575789284619, t stat: 3.5651831042339466\n",
      "portfolio: 5, alpha: 0.008141340464652308, t stat: 3.9463326650566777\n",
      "portfolio: 6, alpha: 0.008473980913785987, t stat: 4.305085120408617\n",
      "portfolio: 7, alpha: 0.008940806489359283, t stat: 4.61155582046597\n",
      "portfolio: 8, alpha: 0.009512445606051762, t stat: 4.847198757389187\n",
      "portfolio: 9, alpha: 0.01060098708996266, t stat: 4.886264130150616\n",
      "portfolio: 10, alpha: 0.01211566740215471, t stat: 4.537334823063074\n",
      "portfolio: 10-1, alpha: 0.00492099346840327, t stat: 2.7537237216500867\n",
      "\n",
      "The results remain valid, despite a slight decrease in means.\n"
     ]
    }
   ],
   "source": [
    "list_portfolio_rank=[1,2,3,4,5,6,7,8,9,10,\"10-1\"]\n",
    "\n",
    "for i in list_portfolio_rank[0:]:\n",
    "    \n",
    "    table['avg_return_{}'.format(i)] = table[i] - table[\"RF\"]\n",
    "    X = table[[\"Mkt-RF\", \"SMB\", \"HML\"]].values\n",
    "    X = sm.add_constant(X)\n",
    "    y = table['avg_return_{}'.format(i)].values\n",
    "    \n",
    "    reg_mean=\\\n",
    "    sm.OLS(y,X).fit(cov_type='HAC',\n",
    "                    cov_kwds={'maxlags': lagged},\n",
    "                    use_t=True).params[0]\n",
    "\n",
    "    reg_t_stat=\\\n",
    "    sm.OLS(y,X).fit(cov_type='HAC',\n",
    "                    cov_kwds={'maxlags': lagged},\n",
    "                    use_t=True).tvalues[0]\n",
    "    \n",
    "    print(\"portfolio: {}, alpha: {}, t stat: {}\".format(i, reg_mean, reg_t_stat))\n",
    "\n",
    "print(\"\")\n",
    "print(\"The results remain valid, despite a slight decrease in means.\")"
   ]
  },
  {
   "cell_type": "code",
   "execution_count": null,
   "id": "bf111f0d",
   "metadata": {},
   "outputs": [],
   "source": []
  },
  {
   "cell_type": "code",
   "execution_count": null,
   "id": "e979845f",
   "metadata": {},
   "outputs": [],
   "source": []
  },
  {
   "cell_type": "code",
   "execution_count": null,
   "id": "314b22a8",
   "metadata": {},
   "outputs": [],
   "source": []
  },
  {
   "cell_type": "code",
   "execution_count": null,
   "id": "912a3566",
   "metadata": {},
   "outputs": [],
   "source": []
  },
  {
   "cell_type": "code",
   "execution_count": null,
   "id": "467ca581",
   "metadata": {},
   "outputs": [],
   "source": []
  },
  {
   "cell_type": "code",
   "execution_count": null,
   "id": "998c0853",
   "metadata": {},
   "outputs": [],
   "source": []
  },
  {
   "cell_type": "code",
   "execution_count": null,
   "id": "f276361f",
   "metadata": {},
   "outputs": [],
   "source": []
  }
 ],
 "metadata": {
  "kernelspec": {
   "display_name": "Python 3 (ipykernel)",
   "language": "python",
   "name": "python3"
  },
  "language_info": {
   "codemirror_mode": {
    "name": "ipython",
    "version": 3
   },
   "file_extension": ".py",
   "mimetype": "text/x-python",
   "name": "python",
   "nbconvert_exporter": "python",
   "pygments_lexer": "ipython3",
   "version": "3.10.9"
  }
 },
 "nbformat": 4,
 "nbformat_minor": 5
}
