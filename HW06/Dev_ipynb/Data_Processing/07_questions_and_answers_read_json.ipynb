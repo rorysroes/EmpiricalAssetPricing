{
 "cells": [
  {
   "cell_type": "code",
   "execution_count": 1,
   "id": "e07c839d",
   "metadata": {},
   "outputs": [],
   "source": [
    "import PyPDF2\n",
    "import json\n",
    "import glob\n",
    "import numpy as np\n",
    "import pdfplumber\n",
    "import pandas as pd\n",
    "import matplotlib.pyplot as plt\n",
    "\n",
    "from itertools import chain\n",
    "from collections import defaultdict\n",
    "from pdfminer.high_level import extract_pages, extract_text\n",
    "from pdfminer.layout import LTTextContainer, LTChar, LTRect, LTFigure"
   ]
  },
  {
   "cell_type": "code",
   "execution_count": 2,
   "id": "47ab414e",
   "metadata": {},
   "outputs": [],
   "source": [
    "def monthToNum(shortMonth):\n",
    "    return {\n",
    "            'January': \"01\",\n",
    "            'February': \"02\",\n",
    "            'March': \"03\",\n",
    "            'April': \"04\",\n",
    "            'May': \"05\",\n",
    "            'June': \"06\",\n",
    "            'July': \"07\",\n",
    "            'August': \"08\",\n",
    "            'September': \"09\", \n",
    "            'October': \"10\",\n",
    "            'November': \"11\",\n",
    "            'December': \"12\"\n",
    "    }[shortMonth]\n",
    "\n",
    "def defaultify(d):\n",
    "        \n",
    "    if not isinstance(d, dict):\n",
    "        return d\n",
    "    return defaultdict(lambda: None, {k: defaultify(v) for k, v in d.items()})"
   ]
  },
  {
   "cell_type": "code",
   "execution_count": 3,
   "id": "9ca42638",
   "metadata": {},
   "outputs": [],
   "source": [
    "path_output=\\\n",
    "'/Volumes/4TB/ConferenceCall/Tesla/csvfile/tesla_earning_call_question_answer.json'"
   ]
  },
  {
   "cell_type": "code",
   "execution_count": 4,
   "id": "86173703",
   "metadata": {},
   "outputs": [],
   "source": [
    "with open(path_output, 'r') as openfile:\n",
    "     json_object = json.load(openfile)"
   ]
  },
  {
   "cell_type": "code",
   "execution_count": 5,
   "id": "3cc14eb4",
   "metadata": {},
   "outputs": [],
   "source": [
    "def_object=defaultify(json_object)"
   ]
  },
  {
   "cell_type": "code",
   "execution_count": 6,
   "id": "273af951",
   "metadata": {
    "scrolled": true
   },
   "outputs": [],
   "source": [
    "data_table=\\\n",
    "pd.DataFrame([\n",
    "              col1, col2, col3, d3\n",
    "             ]\n",
    "              for col1, d1 in def_object.items()\\\n",
    "              for col2, d2 in d1.items()\\\n",
    "              for col3, d3 in d2.items()\n",
    "            )\n",
    "data_table=data_table.rename(columns={0: 'time',\n",
    "                                      1: 'company',\n",
    "                                      2: 'chara1',\n",
    "                                      3: 'text'}).reset_index(drop=True)"
   ]
  },
  {
   "cell_type": "code",
   "execution_count": 7,
   "id": "dd5284be",
   "metadata": {},
   "outputs": [
    {
     "data": {
      "text/html": [
       "<div>\n",
       "<style scoped>\n",
       "    .dataframe tbody tr th:only-of-type {\n",
       "        vertical-align: middle;\n",
       "    }\n",
       "\n",
       "    .dataframe tbody tr th {\n",
       "        vertical-align: top;\n",
       "    }\n",
       "\n",
       "    .dataframe thead th {\n",
       "        text-align: right;\n",
       "    }\n",
       "</style>\n",
       "<table border=\"1\" class=\"dataframe\">\n",
       "  <thead>\n",
       "    <tr style=\"text-align: right;\">\n",
       "      <th></th>\n",
       "      <th>time</th>\n",
       "      <th>company</th>\n",
       "      <th>chara1</th>\n",
       "      <th>text</th>\n",
       "    </tr>\n",
       "  </thead>\n",
       "  <tbody>\n",
       "    <tr>\n",
       "      <th>0</th>\n",
       "      <td>Wednesday, May 04, 2011 9:00 PM GMT\\nS&amp;P</td>\n",
       "      <td>Tesla Motors, Inc., Q1 2011 Earnings Call, May...</td>\n",
       "      <td>people</td>\n",
       "      <td>{'analysts': {'Adam Michael Jonas': 'Morgan St...</td>\n",
       "    </tr>\n",
       "    <tr>\n",
       "      <th>1</th>\n",
       "      <td>Wednesday, May 04, 2011 9:00 PM GMT\\nS&amp;P</td>\n",
       "      <td>Tesla Motors, Inc., Q1 2011 Earnings Call, May...</td>\n",
       "      <td>question_and_answer</td>\n",
       "      <td>[Question and Answer\\n, Operator\\n, [Operator ...</td>\n",
       "    </tr>\n",
       "    <tr>\n",
       "      <th>2</th>\n",
       "      <td>Wednesday, May 04, 2011 9:00 PM GMT\\nS&amp;P</td>\n",
       "      <td>Tesla Motors, Inc., Q1 2011 Earnings Call, May...</td>\n",
       "      <td>executives_answer</td>\n",
       "      <td>{'answer_0': {'6': ['Sure, our goal with Tesla...</td>\n",
       "    </tr>\n",
       "    <tr>\n",
       "      <th>3</th>\n",
       "      <td>Wednesday, May 04, 2011 9:00 PM GMT\\nS&amp;P</td>\n",
       "      <td>Tesla Motors, Inc., Q1 2011 Earnings Call, May...</td>\n",
       "      <td>analysts_question</td>\n",
       "      <td>{'question_0': {'4': ['So I guess a couple que...</td>\n",
       "    </tr>\n",
       "    <tr>\n",
       "      <th>4</th>\n",
       "      <td>Wednesday, May 04, 2011 9:00 PM GMT\\nS&amp;P</td>\n",
       "      <td>Tesla Motors, Inc., Q1 2011 Earnings Call, May...</td>\n",
       "      <td>executives_people_answer</td>\n",
       "      <td>{'answer_0': 'Elon R. Musk', 'answer_1': 'Elon...</td>\n",
       "    </tr>\n",
       "  </tbody>\n",
       "</table>\n",
       "</div>"
      ],
      "text/plain": [
       "                                       time  \\\n",
       "0  Wednesday, May 04, 2011 9:00 PM GMT\\nS&P   \n",
       "1  Wednesday, May 04, 2011 9:00 PM GMT\\nS&P   \n",
       "2  Wednesday, May 04, 2011 9:00 PM GMT\\nS&P   \n",
       "3  Wednesday, May 04, 2011 9:00 PM GMT\\nS&P   \n",
       "4  Wednesday, May 04, 2011 9:00 PM GMT\\nS&P   \n",
       "\n",
       "                                             company  \\\n",
       "0  Tesla Motors, Inc., Q1 2011 Earnings Call, May...   \n",
       "1  Tesla Motors, Inc., Q1 2011 Earnings Call, May...   \n",
       "2  Tesla Motors, Inc., Q1 2011 Earnings Call, May...   \n",
       "3  Tesla Motors, Inc., Q1 2011 Earnings Call, May...   \n",
       "4  Tesla Motors, Inc., Q1 2011 Earnings Call, May...   \n",
       "\n",
       "                     chara1                                               text  \n",
       "0                    people  {'analysts': {'Adam Michael Jonas': 'Morgan St...  \n",
       "1       question_and_answer  [Question and Answer\\n, Operator\\n, [Operator ...  \n",
       "2         executives_answer  {'answer_0': {'6': ['Sure, our goal with Tesla...  \n",
       "3         analysts_question  {'question_0': {'4': ['So I guess a couple que...  \n",
       "4  executives_people_answer  {'answer_0': 'Elon R. Musk', 'answer_1': 'Elon...  "
      ]
     },
     "execution_count": 7,
     "metadata": {},
     "output_type": "execute_result"
    }
   ],
   "source": [
    "data_table.head()"
   ]
  },
  {
   "cell_type": "code",
   "execution_count": null,
   "id": "18ab7bde",
   "metadata": {},
   "outputs": [],
   "source": []
  },
  {
   "cell_type": "code",
   "execution_count": null,
   "id": "49455013",
   "metadata": {},
   "outputs": [],
   "source": []
  },
  {
   "cell_type": "code",
   "execution_count": 9,
   "id": "27aef3cd",
   "metadata": {},
   "outputs": [],
   "source": [
    "data_table_01=\\\n",
    "data_table[data_table['chara1'] == 'analysts_question'].reset_index(drop=True)"
   ]
  },
  {
   "cell_type": "code",
   "execution_count": 10,
   "id": "a25edc04",
   "metadata": {},
   "outputs": [],
   "source": [
    "data_table_01['text_analysts_question_01']=\\\n",
    "data_table_01.loc[:, 'text'].apply(\n",
    "    lambda x: list(x.values()))"
   ]
  },
  {
   "cell_type": "code",
   "execution_count": 11,
   "id": "5a3ffd8f",
   "metadata": {},
   "outputs": [],
   "source": [
    "data_table_01['text_analysts_question_02']=\\\n",
    "data_table_01['text_analysts_question_01'].apply(lambda x: [list(text.values())[0][0] for text in x])"
   ]
  },
  {
   "cell_type": "code",
   "execution_count": 12,
   "id": "f7e60962",
   "metadata": {},
   "outputs": [
    {
     "data": {
      "text/plain": [
       "32"
      ]
     },
     "execution_count": 12,
     "metadata": {},
     "output_type": "execute_result"
    }
   ],
   "source": [
    "len(data_table_01['text'][0].keys())"
   ]
  },
  {
   "cell_type": "code",
   "execution_count": null,
   "id": "d1e49c52",
   "metadata": {
    "scrolled": true
   },
   "outputs": [],
   "source": []
  },
  {
   "cell_type": "code",
   "execution_count": 14,
   "id": "4954880e",
   "metadata": {},
   "outputs": [],
   "source": [
    "data_table_01[\"call_date\"]=data_table_01[\"time\"].apply(lambda x: x.split(',')[1])\n",
    "data_table_01[\"call_year\"]=\\\n",
    "data_table_01[\"time\"].apply(lambda x: x.split(',')[2][0:5])\n",
    "data_table_01[\"call_time\"]=\\\n",
    "data_table_01[\"time\"].apply(lambda x: x.split(',')[2][5:11])\n",
    "data_table_01[\"quarter\"]=\\\n",
    "data_table_01[\"company\"].apply(lambda x: x.split(',')[2][:3])\n",
    "data_table_01[\"year_quarter\"]=\\\n",
    "data_table_01[\"company\"].apply(lambda x: x.split(',')[2][3:9])\n",
    "data_table_01[\"company_name\"]=data_table_01[\"company\"].apply(lambda x: x.split(',')[0][0:12])\n",
    "data_table_01=data_table_01.sort_values(['year_quarter', 'quarter'])\n",
    "data_table_01=data_table_01.reset_index(drop=True)"
   ]
  },
  {
   "cell_type": "code",
   "execution_count": 15,
   "id": "15683970",
   "metadata": {},
   "outputs": [],
   "source": [
    "data_table_01['call_month']=\\\n",
    "data_table_01['call_date'].apply(\n",
    "    lambda x: x.split(' ')[1]).apply(\n",
    "    lambda x: monthToNum(x))\n",
    "\n",
    "data_table_01['call_day']=\\\n",
    "data_table_01['call_date'].apply(\n",
    "    lambda x: x.split(' ')[2])\n",
    "\n",
    "cols = data_table_01.loc[:, ['call_year', 'call_month', 'call_day']].columns\n",
    "data_table_01['call_datetime']=\\\n",
    "data_table_01[cols].apply(\n",
    "    lambda x: '-'.join(x.dropna().astype(str)), 1)"
   ]
  },
  {
   "cell_type": "code",
   "execution_count": 16,
   "id": "9dee2645",
   "metadata": {},
   "outputs": [],
   "source": [
    "data_table_01=data_table_01.sort_values(['call_datetime'])"
   ]
  },
  {
   "cell_type": "code",
   "execution_count": null,
   "id": "3eac5bcb",
   "metadata": {},
   "outputs": [],
   "source": []
  },
  {
   "cell_type": "code",
   "execution_count": 17,
   "id": "b8f71eeb",
   "metadata": {},
   "outputs": [],
   "source": [
    "prenum=data_table_01['text'].apply(lambda x: len(x.keys()))"
   ]
  },
  {
   "cell_type": "code",
   "execution_count": 18,
   "id": "6b0eab73",
   "metadata": {},
   "outputs": [],
   "source": [
    "date=data_table_01['call_datetime'].drop_duplicates().reset_index(drop=True)"
   ]
  },
  {
   "cell_type": "code",
   "execution_count": 19,
   "id": "289e47fe",
   "metadata": {},
   "outputs": [],
   "source": [
    "date=\\\n",
    "pd.to_datetime(date, format='%Y-%m-%d')"
   ]
  },
  {
   "cell_type": "code",
   "execution_count": 20,
   "id": "8ffaca92",
   "metadata": {},
   "outputs": [
    {
     "data": {
      "text/plain": [
       "33.46153846153846"
      ]
     },
     "execution_count": 20,
     "metadata": {},
     "output_type": "execute_result"
    }
   ],
   "source": [
    "np.mean(prenum)"
   ]
  },
  {
   "cell_type": "code",
   "execution_count": null,
   "id": "6745921e",
   "metadata": {},
   "outputs": [],
   "source": []
  },
  {
   "cell_type": "code",
   "execution_count": 22,
   "id": "cb87d4ea",
   "metadata": {},
   "outputs": [
    {
     "data": {
      "text/plain": [
       "<matplotlib.legend.Legend at 0x7fa3fa6f8790>"
      ]
     },
     "execution_count": 22,
     "metadata": {},
     "output_type": "execute_result"
    },
    {
     "data": {
      "image/png": "[encoded data removed]",
      "text/plain": [
       "<Figure size 1600x300 with 1 Axes>"
      ]
     },
     "metadata": {},
     "output_type": "display_data"
    }
   ],
   "source": [
    "csfont = {'fontname':'serif'}\n",
    "sizetext=12\n",
    "\n",
    "fig, (ax1) = plt.subplots(nrows = 1, ncols = 1, figsize = (16, 3))\n",
    "\n",
    "lns1=\\\n",
    "ax1.plot(date, prenum, label='Number of Analyst Questions', color='r')\n",
    "\n",
    "ax1.set_title(\"Number: Analyst Questions\", **csfont, size = sizetext)\n",
    "ax1.set_ylabel('Number', size = sizetext, **csfont)\n",
    "ax1.set_xlabel('date', size = sizetext, **csfont)\n",
    "# ax1.set_xlim([datetime(2010, 11, 9), datetime(2022, 12, 31)]) \n",
    "ax1.grid(linewidth=0.5)\n",
    "ax1.legend()"
   ]
  },
  {
   "cell_type": "code",
   "execution_count": null,
   "id": "feb4af32",
   "metadata": {},
   "outputs": [],
   "source": []
  },
  {
   "cell_type": "code",
   "execution_count": null,
   "id": "4719d55a",
   "metadata": {},
   "outputs": [],
   "source": []
  },
  {
   "cell_type": "code",
   "execution_count": null,
   "id": "cc1cb8eb",
   "metadata": {},
   "outputs": [],
   "source": []
  },
  {
   "cell_type": "code",
   "execution_count": null,
   "id": "6accd083",
   "metadata": {},
   "outputs": [],
   "source": []
  }
 ],
 "metadata": {
  "kernelspec": {
   "display_name": "Python 3 (ipykernel)",
   "language": "python",
   "name": "python3"
  },
  "language_info": {
   "codemirror_mode": {
    "name": "ipython",
    "version": 3
   },
   "file_extension": ".py",
   "mimetype": "text/x-python",
   "name": "python",
   "nbconvert_exporter": "python",
   "pygments_lexer": "ipython3",
   "version": "3.10.9"
  }
 },
 "nbformat": 4,
 "nbformat_minor": 5
}
