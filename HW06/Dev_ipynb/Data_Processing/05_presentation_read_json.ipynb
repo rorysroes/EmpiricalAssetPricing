{
 "cells": [
  {
   "cell_type": "code",
   "execution_count": 61,
   "id": "3a881cb0",
   "metadata": {},
   "outputs": [],
   "source": [
    "import PyPDF2\n",
    "import json\n",
    "import glob\n",
    "import numpy as np\n",
    "import pdfplumber\n",
    "import pandas as pd\n",
    "\n",
    "from itertools import chain\n",
    "from collections import defaultdict\n",
    "from pdfminer.high_level import extract_pages, extract_text\n",
    "from pdfminer.layout import LTTextContainer, LTChar, LTRect, LTFigure"
   ]
  },
  {
   "cell_type": "code",
   "execution_count": 2,
   "id": "aea4cae7",
   "metadata": {},
   "outputs": [],
   "source": [
    "def monthToNum(shortMonth):\n",
    "    return {\n",
    "            'January': \"01\",\n",
    "            'February': \"02\",\n",
    "            'March': \"03\",\n",
    "            'April': \"04\",\n",
    "            'May': \"05\",\n",
    "            'June': \"06\",\n",
    "            'July': \"07\",\n",
    "            'August': \"08\",\n",
    "            'September': \"09\", \n",
    "            'October': \"10\",\n",
    "            'November': \"11\",\n",
    "            'December': \"12\"\n",
    "    }[shortMonth]\n",
    "\n",
    "def defaultify(d):\n",
    "    \n",
    "    # https://stackoverflow.com/questions/50013768/how-can-i-convert-nested-dictionary-to-defaultdict\n",
    "    \n",
    "    if not isinstance(d, dict):\n",
    "        return d\n",
    "    return defaultdict(lambda: None, {k: defaultify(v) for k, v in d.items()})"
   ]
  },
  {
   "cell_type": "code",
   "execution_count": 196,
   "id": "c304a9d0",
   "metadata": {},
   "outputs": [],
   "source": [
    "path_output=\\\n",
    "'/Volumes/4TB/ConferenceCall/Tesla/csvfile/tesla_earning_call_presentation.json'"
   ]
  },
  {
   "cell_type": "code",
   "execution_count": 197,
   "id": "b83c8580",
   "metadata": {},
   "outputs": [],
   "source": [
    "with open(path_output, 'r') as openfile:\n",
    "     json_object = json.load(openfile)\n",
    "# print(json_object)\n",
    "# print(type(json_object))"
   ]
  },
  {
   "cell_type": "code",
   "execution_count": 198,
   "id": "4141fe09",
   "metadata": {},
   "outputs": [],
   "source": [
    "def_object=defaultify(json_object)"
   ]
  },
  {
   "cell_type": "code",
   "execution_count": null,
   "id": "343760f7",
   "metadata": {},
   "outputs": [],
   "source": []
  },
  {
   "cell_type": "code",
   "execution_count": 199,
   "id": "749ac0c8",
   "metadata": {
    "scrolled": true
   },
   "outputs": [
    {
     "name": "stderr",
     "output_type": "stream",
     "text": [
      "/var/folders/6l/2d59bcb16yjbzzkcgz02zhn00000gn/T/ipykernel_97875/3791956451.py:18: SettingWithCopyWarning: \n",
      "A value is trying to be set on a copy of a slice from a DataFrame.\n",
      "Try using .loc[row_indexer,col_indexer] = value instead\n",
      "\n",
      "See the caveats in the documentation: https://pandas.pydata.org/pandas-docs/stable/user_guide/indexing.html#returning-a-view-versus-a-copy\n",
      "  data_table_.loc[:, 'text01']=\\\n"
     ]
    }
   ],
   "source": [
    "data_table=\\\n",
    "pd.DataFrame([\n",
    "              col1, col2, col3, col4, d4\n",
    "             ]\n",
    "              for col1, d1 in def_object.items()\\\n",
    "              for col2, d2 in d1.items()\\\n",
    "              for col3, d3 in d2.items()\\\n",
    "              for col4, d4 in d3.items()\n",
    "            )\n",
    "data_table=data_table.rename(columns={0: 'time',\n",
    "                                      1: 'company',\n",
    "                                      2: 'chara1',\n",
    "                                      3: 'chara2',\n",
    "                                      4: 'text'})\n",
    "\n",
    "data_table_=data_table[data_table['chara1'] == 'presentation_people_speech']\n",
    "\n",
    "data_table_.loc[:, 'text01']=\\\n",
    "data_table_.loc[:, 'text'].apply(\n",
    "    lambda x: list(x.values())).apply(\n",
    "    lambda x: list(chain.from_iterable(x))).apply(\n",
    "    lambda x: ' '.join(x))\n",
    "\n",
    "data_table_=data_table_.reset_index(drop=True)"
   ]
  },
  {
   "cell_type": "code",
   "execution_count": 200,
   "id": "f6adab97",
   "metadata": {
    "scrolled": true
   },
   "outputs": [],
   "source": [
    "_data_table_=data_table_[['time', 'company', 'chara2', 'text01']]\n",
    "\n",
    "_data_table_=\\\n",
    "pd.pivot(_data_table_,\n",
    "         values=['text01'],\n",
    "         index=['time', 'company'],\n",
    "         columns=['chara2'])\n",
    "\n",
    "_data_table_=_data_table_['text01'].reset_index(drop=False)\n",
    "\n",
    "cols = _data_table_.iloc[:,2:].columns\n",
    "_data_table_['presentationa_all'] = _data_table_[cols].apply(\n",
    "    lambda x: ' '.join(x.dropna().astype(str)), 1)\n",
    "\n",
    "data_table_all=_data_table_.loc[:, ['time', 'company', 'presentationa_all']]"
   ]
  },
  {
   "cell_type": "code",
   "execution_count": null,
   "id": "c044fe1a",
   "metadata": {},
   "outputs": [],
   "source": []
  },
  {
   "cell_type": "code",
   "execution_count": 201,
   "id": "b50318a7",
   "metadata": {},
   "outputs": [],
   "source": [
    "data_table_all[\"call_date\"]=data_table_all[\"time\"].apply(lambda x: x.split(',')[1])\n",
    "data_table_all[\"call_year\"]=\\\n",
    "data_table_all[\"time\"].apply(lambda x: x.split(',')[2][0:5])\n",
    "data_table_all[\"call_time\"]=\\\n",
    "data_table_all[\"time\"].apply(lambda x: x.split(',')[2][5:11])\n",
    "data_table_all[\"quarter\"]=\\\n",
    "data_table_all[\"company\"].apply(lambda x: x.split(',')[2][:3])\n",
    "data_table_all[\"year_quarter\"]=\\\n",
    "data_table_all[\"company\"].apply(lambda x: x.split(',')[2][3:9])\n",
    "data_table_all[\"company_name\"]=data_table_all[\"company\"].apply(lambda x: x.split(',')[0][0:12])\n",
    "data_table_all=data_table_all.sort_values(['year_quarter', 'quarter'])\n",
    "data_table_all=data_table_all.reset_index(drop=True)"
   ]
  },
  {
   "cell_type": "code",
   "execution_count": 226,
   "id": "c4e13b55",
   "metadata": {},
   "outputs": [],
   "source": []
  },
  {
   "cell_type": "code",
   "execution_count": null,
   "id": "fb9eadf9",
   "metadata": {},
   "outputs": [],
   "source": []
  },
  {
   "cell_type": "code",
   "execution_count": 229,
   "id": "b34eee0b",
   "metadata": {
    "scrolled": false
   },
   "outputs": [],
   "source": [
    "data_table_all['call_month']=\\\n",
    "data_table_all['call_date'].apply(\n",
    "    lambda x: x.split(' ')[1]).apply(\n",
    "    lambda x: monthToNum(x))"
   ]
  },
  {
   "cell_type": "code",
   "execution_count": 234,
   "id": "272510b8",
   "metadata": {
    "scrolled": true
   },
   "outputs": [],
   "source": [
    "data_table_all['call_day']=\\\n",
    "data_table_all['call_date'].apply(\n",
    "    lambda x: x.split(' ')[2])"
   ]
  },
  {
   "cell_type": "code",
   "execution_count": 256,
   "id": "93b17637",
   "metadata": {
    "scrolled": true
   },
   "outputs": [],
   "source": [
    "cols = data_table_all.loc[:, ['call_year', 'call_month', 'call_day']].columns\n",
    "data_table_all['call_datetime']=\\\n",
    "data_table_all[cols].apply(\n",
    "    lambda x: '-'.join(x.dropna().astype(str)), 1)"
   ]
  },
  {
   "cell_type": "code",
   "execution_count": 259,
   "id": "a26fa9c8",
   "metadata": {},
   "outputs": [
    {
     "data": {
      "text/plain": [
       "Index(['time', 'company', 'presentationa_all', 'call_date', 'call_year',\n",
       "       'call_time', 'quarter', 'year_quarter', 'company_name', 'call_month',\n",
       "       'call_day', 'call_datetime'],\n",
       "      dtype='object', name='chara2')"
      ]
     },
     "execution_count": 259,
     "metadata": {},
     "output_type": "execute_result"
    }
   ],
   "source": [
    "data_table_all.columns"
   ]
  },
  {
   "cell_type": "code",
   "execution_count": 266,
   "id": "3e86a589",
   "metadata": {},
   "outputs": [],
   "source": [
    "data_table_all=\\\n",
    "data_table_all[['time',\n",
    "                'call_datetime',\n",
    "                'call_year',\n",
    "                'call_month',\n",
    "                'call_day',\n",
    "                'company_name',\n",
    "                'company',\n",
    "                'quarter',\n",
    "                'year_quarter',\n",
    "                'presentationa_all']]"
   ]
  },
  {
   "cell_type": "code",
   "execution_count": null,
   "id": "364e97f5",
   "metadata": {},
   "outputs": [],
   "source": []
  },
  {
   "cell_type": "code",
   "execution_count": 270,
   "id": "413bc72a",
   "metadata": {
    "scrolled": true
   },
   "outputs": [
    {
     "data": {
      "text/html": [
       "<div>\n",
       "<style scoped>\n",
       "    .dataframe tbody tr th:only-of-type {\n",
       "        vertical-align: middle;\n",
       "    }\n",
       "\n",
       "    .dataframe tbody tr th {\n",
       "        vertical-align: top;\n",
       "    }\n",
       "\n",
       "    .dataframe thead th {\n",
       "        text-align: right;\n",
       "    }\n",
       "</style>\n",
       "<table border=\"1\" class=\"dataframe\">\n",
       "  <thead>\n",
       "    <tr style=\"text-align: right;\">\n",
       "      <th>chara2</th>\n",
       "      <th>time</th>\n",
       "      <th>call_datetime</th>\n",
       "      <th>call_year</th>\n",
       "      <th>call_month</th>\n",
       "      <th>call_day</th>\n",
       "      <th>company_name</th>\n",
       "      <th>company</th>\n",
       "      <th>quarter</th>\n",
       "      <th>year_quarter</th>\n",
       "      <th>presentationa_all</th>\n",
       "    </tr>\n",
       "  </thead>\n",
       "  <tbody>\n",
       "    <tr>\n",
       "      <th>0</th>\n",
       "      <td>Tuesday, November 09, 2010 10:00 PM GMT</td>\n",
       "      <td>2010-11-09</td>\n",
       "      <td>2010</td>\n",
       "      <td>11</td>\n",
       "      <td>09</td>\n",
       "      <td>Tesla Motors</td>\n",
       "      <td>Tesla Motors, Inc., Q3 2010 Earnings Call, Nov...</td>\n",
       "      <td>Q3</td>\n",
       "      <td>2010</td>\n",
       "      <td>All right. So as I mentioned in the last earni...</td>\n",
       "    </tr>\n",
       "    <tr>\n",
       "      <th>1</th>\n",
       "      <td>Tuesday, February 15, 2011 10:00 PM GMT</td>\n",
       "      <td>2011-02-15</td>\n",
       "      <td>2011</td>\n",
       "      <td>02</td>\n",
       "      <td>15</td>\n",
       "      <td>Tesla Motors</td>\n",
       "      <td>Tesla Motors, Inc., Q4 2010 Earnings Call, Feb...</td>\n",
       "      <td>Q4</td>\n",
       "      <td>2010</td>\n",
       "      <td>Thank you, Tyrone. And thank you, everyone for...</td>\n",
       "    </tr>\n",
       "    <tr>\n",
       "      <th>2</th>\n",
       "      <td>Wednesday, May 04, 2011 9:00 PM GMT\\nS&amp;P</td>\n",
       "      <td>2011-05-04</td>\n",
       "      <td>2011</td>\n",
       "      <td>05</td>\n",
       "      <td>04</td>\n",
       "      <td>Tesla Motors</td>\n",
       "      <td>Tesla Motors, Inc., Q1 2011 Earnings Call, May...</td>\n",
       "      <td>Q1</td>\n",
       "      <td>2011</td>\n",
       "      <td>Thank you, Tyrone, and thank you all for joini...</td>\n",
       "    </tr>\n",
       "    <tr>\n",
       "      <th>3</th>\n",
       "      <td>Wednesday, August 03, 2011 9:30 PM GMT\\n</td>\n",
       "      <td>2011-08-03</td>\n",
       "      <td>2011</td>\n",
       "      <td>08</td>\n",
       "      <td>03</td>\n",
       "      <td>Tesla Motors</td>\n",
       "      <td>Tesla Motors, Inc., Q2 2011 Earnings Call, Aug...</td>\n",
       "      <td>Q2</td>\n",
       "      <td>2011</td>\n",
       "      <td>Thank you, Tyrone, and good afternoon, everyon...</td>\n",
       "    </tr>\n",
       "    <tr>\n",
       "      <th>4</th>\n",
       "      <td>Wednesday, November 02, 2011 9:30 PM GM</td>\n",
       "      <td>2011-11-02</td>\n",
       "      <td>2011</td>\n",
       "      <td>11</td>\n",
       "      <td>02</td>\n",
       "      <td>Tesla Motors</td>\n",
       "      <td>Tesla Motors, Inc., Q3 2011 Earnings Call, Nov...</td>\n",
       "      <td>Q3</td>\n",
       "      <td>2011</td>\n",
       "      <td>Thank you, Matthew, and good afternoon, everyo...</td>\n",
       "    </tr>\n",
       "  </tbody>\n",
       "</table>\n",
       "</div>"
      ],
      "text/plain": [
       "chara2                                      time call_datetime call_year  \\\n",
       "0        Tuesday, November 09, 2010 10:00 PM GMT    2010-11-09      2010   \n",
       "1        Tuesday, February 15, 2011 10:00 PM GMT    2011-02-15      2011   \n",
       "2       Wednesday, May 04, 2011 9:00 PM GMT\\nS&P    2011-05-04      2011   \n",
       "3       Wednesday, August 03, 2011 9:30 PM GMT\\n    2011-08-03      2011   \n",
       "4        Wednesday, November 02, 2011 9:30 PM GM    2011-11-02      2011   \n",
       "\n",
       "chara2 call_month call_day  company_name  \\\n",
       "0              11       09  Tesla Motors   \n",
       "1              02       15  Tesla Motors   \n",
       "2              05       04  Tesla Motors   \n",
       "3              08       03  Tesla Motors   \n",
       "4              11       02  Tesla Motors   \n",
       "\n",
       "chara2                                            company quarter  \\\n",
       "0       Tesla Motors, Inc., Q3 2010 Earnings Call, Nov...      Q3   \n",
       "1       Tesla Motors, Inc., Q4 2010 Earnings Call, Feb...      Q4   \n",
       "2       Tesla Motors, Inc., Q1 2011 Earnings Call, May...      Q1   \n",
       "3       Tesla Motors, Inc., Q2 2011 Earnings Call, Aug...      Q2   \n",
       "4       Tesla Motors, Inc., Q3 2011 Earnings Call, Nov...      Q3   \n",
       "\n",
       "chara2 year_quarter                                  presentationa_all  \n",
       "0             2010   All right. So as I mentioned in the last earni...  \n",
       "1             2010   Thank you, Tyrone. And thank you, everyone for...  \n",
       "2             2011   Thank you, Tyrone, and thank you all for joini...  \n",
       "3             2011   Thank you, Tyrone, and good afternoon, everyon...  \n",
       "4             2011   Thank you, Matthew, and good afternoon, everyo...  "
      ]
     },
     "execution_count": 270,
     "metadata": {},
     "output_type": "execute_result"
    }
   ],
   "source": [
    "data_table_all.head()"
   ]
  },
  {
   "cell_type": "code",
   "execution_count": null,
   "id": "4c38d8ea",
   "metadata": {},
   "outputs": [],
   "source": []
  },
  {
   "cell_type": "code",
   "execution_count": 268,
   "id": "4313d70a",
   "metadata": {},
   "outputs": [],
   "source": [
    "path_output=\\\n",
    "'/Volumes/4TB/ConferenceCall/Tesla/csvfile/tesla_earning_call_presentation_all.csv'"
   ]
  },
  {
   "cell_type": "code",
   "execution_count": 271,
   "id": "9411201b",
   "metadata": {},
   "outputs": [],
   "source": [
    "data_table_all.to_csv(path_output, index = False)"
   ]
  },
  {
   "cell_type": "code",
   "execution_count": null,
   "id": "e3a6adc7",
   "metadata": {},
   "outputs": [],
   "source": []
  },
  {
   "cell_type": "code",
   "execution_count": null,
   "id": "18de333f",
   "metadata": {},
   "outputs": [],
   "source": []
  }
 ],
 "metadata": {
  "kernelspec": {
   "display_name": "Python 3 (ipykernel)",
   "language": "python",
   "name": "python3"
  },
  "language_info": {
   "codemirror_mode": {
    "name": "ipython",
    "version": 3
   },
   "file_extension": ".py",
   "mimetype": "text/x-python",
   "name": "python",
   "nbconvert_exporter": "python",
   "pygments_lexer": "ipython3",
   "version": "3.10.9"
  }
 },
 "nbformat": 4,
 "nbformat_minor": 5
}
