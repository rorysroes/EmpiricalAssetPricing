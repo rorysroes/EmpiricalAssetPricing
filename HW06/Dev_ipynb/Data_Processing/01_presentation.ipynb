{
 "cells": [
  {
   "cell_type": "code",
   "execution_count": 1,
   "id": "cd196396",
   "metadata": {},
   "outputs": [],
   "source": [
    "import PyPDF2\n",
    "import glob\n",
    "import numpy as np\n",
    "import pdfplumber\n",
    "from collections import defaultdict\n",
    "from pdfminer.high_level import extract_pages, extract_text\n",
    "from pdfminer.layout import LTTextContainer, LTChar, LTRect, LTFigure"
   ]
  },
  {
   "cell_type": "code",
   "execution_count": null,
   "id": "1ae2e9b0",
   "metadata": {},
   "outputs": [],
   "source": []
  },
  {
   "cell_type": "code",
   "execution_count": 2,
   "id": "b415749f",
   "metadata": {},
   "outputs": [],
   "source": [
    "def text_extraction(element):\n",
    "    \n",
    "    line_text = element.get_text()\n",
    "    \n",
    "    line_formats = []\n",
    "    for text_line in element:\n",
    "        \n",
    "        if isinstance(text_line, LTTextContainer):\n",
    "            \n",
    "            for character in text_line:\n",
    "                \n",
    "                if isinstance(character, LTChar):\n",
    "                    \n",
    "                    line_formats.append(character.fontname)\n",
    "                    \n",
    "                    line_formats.append(character.size)\n",
    "                    \n",
    "    format_per_line = list(set(line_formats))\n",
    "    \n",
    "    return (line_text, format_per_line)\n",
    "\n",
    "def analyst_executives(path):\n",
    "    \n",
    "    time=0\n",
    "    presentation_index=0\n",
    "    Elon_Musk_index=0\n",
    "    Question_and_Answer_index=0\n",
    "    Elon_Musk_speech=[]\n",
    "    presentation_speech=[]\n",
    "    text=[]\n",
    "    executives_name=[]\n",
    "    analysts_name=[]\n",
    "\n",
    "    executives_title=[]\n",
    "    analysts_title=[]\n",
    "\n",
    "    executives_index=0\n",
    "    analysts_index=0\n",
    "\n",
    "    for pagenum, page in enumerate(extract_pages(path)):\n",
    "        \n",
    "        for _, element in enumerate(page):\n",
    "\n",
    "            if pagenum == 2:\n",
    "\n",
    "                if isinstance(element, LTTextContainer):\n",
    "                    line_text, format_per_line = text_extraction(element)\n",
    "\n",
    "                text.append(line_text)\n",
    "\n",
    "                if line_text == \"EXECUTIVES\\n\":\n",
    "                    executives_index+=1\n",
    "\n",
    "                if line_text == 'ANALYSTS\\n':\n",
    "                    executives_index=0\n",
    "\n",
    "                if executives_index >= 1:\n",
    "                    executives_name.append(line_text.split(\"\\n\")[0])\n",
    "                    executives_title.append(line_text.split(\"\\n\")[1])\n",
    "\n",
    "                if line_text == 'ANALYSTS\\n':\n",
    "                    analysts_index+=1\n",
    "                    executives_index=0\n",
    "\n",
    "                if 'S&P Global Market Intelligence' in line_text:\n",
    "                    analysts_index=0\n",
    "\n",
    "                if analysts_index >= 1:\n",
    "                    analysts_name.append(line_text.split(\"\\n\")[0])    \n",
    "                    analysts_title.append(line_text.split(\"\\n\")[1])\n",
    "\n",
    "        if pagenum == 4:\n",
    "            break\n",
    "\n",
    "    ppl=defaultdict(lambda: defaultdict(str))\n",
    "\n",
    "    for i in range(1, len(analysts_name), 1):\n",
    "\n",
    "        ppl['analysts'][analysts_name[i]]=analysts_title[i]\n",
    "\n",
    "    for i in range(1, len(executives_name), 1):\n",
    "\n",
    "        ppl['executives'][executives_name[i]]=executives_title[i]\n",
    "    \n",
    "    return ppl\n",
    "\n",
    "def processing(path):\n",
    "    \n",
    "    presentation_index=0\n",
    "    Elon_Musk_index=0\n",
    "    Question_and_Answer_index=0\n",
    "    Elon_Musk_speech=[]\n",
    "    presentation_speech=[]\n",
    "    time=0\n",
    "\n",
    "    for pagenum, page in enumerate(extract_pages(path)):\n",
    "\n",
    "        test=[]\n",
    "\n",
    "        for _, element in enumerate(page):\n",
    "\n",
    "            if isinstance(element, LTTextContainer):\n",
    "\n",
    "                line_text, format_per_line = text_extraction(element)\n",
    "\n",
    "            test.append(line_text)\n",
    "\n",
    "            if pagenum == 0:\n",
    "                if _ == 0:\n",
    "                    time=line_text\n",
    "                    time=time[61:100]\n",
    "\n",
    "            if line_text == 'Presentation\\n':\n",
    "                presentation_index = presentation_index + 1\n",
    "\n",
    "            if line_text == 'Question and Answer\\n':\n",
    "                Question_and_Answer_index = Question_and_Answer_index + 1\n",
    "\n",
    "            if Question_and_Answer_index == 2:\n",
    "                break\n",
    "\n",
    "            if presentation_index == 2:\n",
    "                presentation_speech.append(line_text)\n",
    "    \n",
    "    return time, presentation_speech"
   ]
  },
  {
   "cell_type": "code",
   "execution_count": null,
   "id": "7b136e11",
   "metadata": {},
   "outputs": [],
   "source": []
  },
  {
   "cell_type": "code",
   "execution_count": 3,
   "id": "306dcbb3",
   "metadata": {},
   "outputs": [],
   "source": [
    "files=glob.glob(\"/Volumes/4TB/ConferenceCall/Tesla/Earningcall/*.pdf\")"
   ]
  },
  {
   "cell_type": "code",
   "execution_count": 4,
   "id": "31136c04",
   "metadata": {},
   "outputs": [
    {
     "name": "stdout",
     "output_type": "stream",
     "text": [
      "/Volumes/4TB/ConferenceCall/Tesla/Earningcall/Tesla Motors, Inc., Q1 2011 Earnings Call, May 04, 2011.pdf\n"
     ]
    }
   ],
   "source": [
    "path=files[0]\n",
    "print(path)\n",
    "pdf=open(path, 'rb')\n",
    "pdfReader=PyPDF2.PdfReader(pdf)"
   ]
  },
  {
   "cell_type": "code",
   "execution_count": 5,
   "id": "b082f0d7",
   "metadata": {},
   "outputs": [],
   "source": [
    "ppl=analyst_executives(path)\n",
    "\n",
    "ppl['executives'].items()\n",
    "executives_people=[elem[0] for elem in ppl['executives'].items()]\n",
    "executives_title=[elem[1] for elem in ppl['executives'].items()]\n",
    "\n",
    "ppl['analysts'].items()\n",
    "analysts_people=[elem[0] for elem in ppl['analysts'].items()]\n",
    "analysts_title=[elem[1] for elem in ppl['analysts'].items()]"
   ]
  },
  {
   "cell_type": "code",
   "execution_count": 6,
   "id": "d8544284",
   "metadata": {},
   "outputs": [
    {
     "data": {
      "text/plain": [
       "defaultdict(<function __main__.analyst_executives.<locals>.<lambda>()>,\n",
       "            {'analysts': defaultdict(str,\n",
       "                         {'Adam Michael Jonas': 'Morgan Stanley, Research Division',\n",
       "                          'Andrea Susan James': 'Dougherty & Company LLC,',\n",
       "                          'Daniel V. Galves': 'Deutsche Bank AG, Research',\n",
       "                          'Himanshu A. Patel': 'JP Morgan Chase & Co, Research',\n",
       "                          'Patrick Kenehan Archambault': 'Goldman Sachs Group Inc.,',\n",
       "                          'Unknown Analyst': ''}),\n",
       "             'executives': defaultdict(str,\n",
       "                         {'Deepak Ahuja': 'Former Chief Financial Officer',\n",
       "                          'Elon R. Musk': 'Co-Founder, CEO, Director &',\n",
       "                          'Jeffrey K. Evanson': 'Former Vice President of Investor'})})"
      ]
     },
     "execution_count": 6,
     "metadata": {},
     "output_type": "execute_result"
    }
   ],
   "source": [
    "ppl"
   ]
  },
  {
   "cell_type": "code",
   "execution_count": null,
   "id": "3cd30ce6",
   "metadata": {},
   "outputs": [],
   "source": []
  },
  {
   "cell_type": "code",
   "execution_count": 7,
   "id": "dd62dfc4",
   "metadata": {},
   "outputs": [],
   "source": [
    "time, presentation_speech=processing(path)"
   ]
  },
  {
   "cell_type": "code",
   "execution_count": null,
   "id": "11fe90f9",
   "metadata": {},
   "outputs": [],
   "source": []
  },
  {
   "cell_type": "code",
   "execution_count": 8,
   "id": "6d2c8926",
   "metadata": {
    "scrolled": true
   },
   "outputs": [],
   "source": [
    "def speech_dict(presentation_speech, executives):\n",
    "\n",
    "    speech_people=defaultdict(lambda: defaultdict(str))\n",
    "    speech_index_dict=defaultdict(lambda: defaultdict(str))\n",
    "    speech_index=0\n",
    "\n",
    "    for _, text in enumerate(presentation_speech):\n",
    "        text=text.split(\"\\n\")\n",
    "        for executives in executives_people:\n",
    "            if executives in text[0]:\n",
    "                speech_people[str(\"Presentation_\")+str(speech_index)]=executives\n",
    "                speech_index_dict[str(\"Presentation_\")+str(speech_index)]=_+1\n",
    "                speech_index+=1\n",
    "\n",
    "    # ================================================================================\n",
    "    speech_speech_index_list=[]\n",
    "\n",
    "    for i in speech_index_dict.items():\n",
    "\n",
    "        speech_speech_index_list.append(i[1])\n",
    "\n",
    "    speech_speech_index_list.append(len(presentation_speech))\n",
    "\n",
    "    # ================================================================================\n",
    "    length=len(speech_index_dict.items())\n",
    "    speech_speech_index_all=defaultdict(lambda: defaultdict(list))\n",
    "\n",
    "    for i in range(length):\n",
    "\n",
    "        rang=range(speech_speech_index_list[i], speech_speech_index_list[i+1], 1)\n",
    "\n",
    "        list_=[x for x in rang]\n",
    "\n",
    "        speech_speech_index_all[str(\"Presentation_\")+str(i)]=list_\n",
    "\n",
    "    speech_speech_dict=defaultdict(lambda: defaultdict(list))\n",
    "    speech_index=0\n",
    "\n",
    "    for i in speech_speech_index_all.items():\n",
    "\n",
    "        for j in i[1]:\n",
    "\n",
    "            speech_speech_dict[i[0]][j].append(presentation_speech[j])\n",
    "            \n",
    "    return speech_speech_dict, speech_people"
   ]
  },
  {
   "cell_type": "code",
   "execution_count": null,
   "id": "0945938d",
   "metadata": {},
   "outputs": [],
   "source": []
  },
  {
   "cell_type": "code",
   "execution_count": 12,
   "id": "8f30082d",
   "metadata": {},
   "outputs": [],
   "source": [
    "speech_speech_dict, speech_people = speech_dict(presentation_speech, executives_people)"
   ]
  },
  {
   "cell_type": "code",
   "execution_count": 13,
   "id": "2a76f140",
   "metadata": {},
   "outputs": [
    {
     "data": {
      "text/plain": [
       "defaultdict(<function __main__.speech_dict.<locals>.<lambda>()>,\n",
       "            {'Presentation_0': defaultdict(list,\n",
       "                         {4: [\"Thank you, Tyrone, and thank you all for joining us this afternoon. Welcome to Tesla Motors earnings call\\nfor the first quarter of 2011. With me on the call today are Elon Musk, Chairman, Product Architect and\\nCEO of Tesla Motors; and Deepak Ahuja, Tesla's Chief Financial Officer.\\n\"],\n",
       "                          5: [\"During the course of this conference call, we will discuss our business outlook and make other forward-\\nlooking statements within the meaning of the safe harbor provisions of the Private Securities Litigation\\nReform Act of 1995. Such statements are only predictions based on management's current expectations.\\nActual events or results could differ materially from those predictions due to a number of risks and\\nuncertainties, including those discussed in the Risk Factors section of our most recent form 10-K filed on\\nMarch 3rd of this year and also filed with the SEC.\\n\"],\n",
       "                          6: ['In addition, any forward-looking statements represent our views only as of today and should not be relied\\nupon as representing our views as of any subsequent date. We specifically disclaim any obligation to\\nupdate these forward-looking statements.\\n'],\n",
       "                          7: ['And now, let me pass the call to Elon.\\n'],\n",
       "                          8: ['Elon R. Musk\\nCo-Founder, CEO, Director & Product Architect\\n']}),\n",
       "             'Presentation_1': defaultdict(list,\n",
       "                         {9: [\"Hi, so we had a another solid quarter of execution in all aspects of our business: Roadster, Model S and\\npowertrain. This was the highest ever revenues and gross profit in Tesla's history, more than double that\\nrecorded in Q1 of last year. We continue to add incredible talent at all levels of the company. We have 130\\nnew employees who joined the company in the quarter, primarily in R&D and manufacturing.\\n\"],\n",
       "                          10: [\"The Roadster sales are going quite well, better than Q1 last year and about the same as Q4. We now\\nforecast that we'll be sold out of Roadsters in North America by the end of this year. So if you want one, I\\nrecommend acting quickly.\\n\"],\n",
       "                          11: [\"As we prepare for Model S, we launched an exciting new retail experience with our store opening in\\nSantana Row in San Jose in April. The goal here is really to engage and inform potential customers about\\nelectric vehicles in general and the manage [ph] by Tesla, in particular, and really to try to catch people\\nbefore they have actually made a buying decision. So they swipe in a high-end mode. So they're thinking\\nabout -- they're at buying mood but haven't decided what car to buy or if necessarily that they're buying\\nan electric vehicle, but by having a very inviting, delightful store that draws people in, we can actually get\\nto people before they make a buying decision and really, when they do make a buying question, have a\\nvery, very pleasant experience in contrast to how most cars are sold.\\n\"],\n",
       "                          12: [\"It's good for Model S. It is on time for first customer deliveries in mid-2012, with a slow ramp in\\nproduction in the second half of 2012, reaching steady-state in 2013. I should say, steady-state somewhat\\nmitigated by the fact that we certainly have the ability to go beyond the current projection of 20,000 units\\na year. So demand is there. We're actually planning to be able to meet a higher demand, if it is there.\\n\"],\n",
       "                          13: [\"The Alpha build is proceeding well. We've completed the Alpha build program, which consists of building\\n15 vehicles. And now, they are going through intensive testing. So we're really testing everyone to a very\\nclose systems integration, performance, safety, cold-weather performance. We've accumulated several\\n\"],\n",
       "                          14: ['Copyright © 2019 S&P Global Market Intelligence, a division of S&P Global Inc. All Rights reserved.\\nspglobal.com/marketintelligence\\n'],\n",
       "                          15: ['4\\n'],\n",
       "                          16: ['4\\n'],\n",
       "                          17: ['TESLA, INC. FQ1 2011 EARNINGS CALL |  MAY 04, 2011\\n'],\n",
       "                          18: [\"thousand miles. We're pretty impressed with the result of the cars. I think it's great to drive. I try drive it\\nevery week, if possible, the latest prototype.\\n\"],\n",
       "                          19: [\"And we're obviously rolling what we learned from the Alpha into the Beta design, and we expect to have\\nthe first Beta vehicle rolled around the end of summer.\\n\"],\n",
       "                          20: [\"Our Fremont factory is going quite well. We saw high levels of activity in each limits of the production\\nprocess. First, the stamping line is now installed, and we've been able to operate several of the stamping\\nmachines. And we expect to be stamping parts from that line in the next probably 4 to 6 months.\\n\"],\n",
       "                          21: ['The renovations are going very, very well, actually. As of the end of April, we had over 4,600 reservations,\\nand the minimum reservation is $5,000. It would appear that these rates of reservations is actually\\naccelerating. There are particularly noticeable increase after we showcased the all-aluminum body-in-\\nwhite at the Detroit Auto Shows. It shows that Tesla has designed the chassis and body from the ground\\nup internally to fully optimize the vehicle around the electric powertrain, but that was clearly well received.\\n'],\n",
       "                          22: ['With our 2 major strategic relationships of Daimler and Toyota. Daimler increased their order by another\\n300 vehicles for the Smart to 2,100 vehicles. And the A-Class electric vehicle, Mercedes A-Class Electric\\nVehicle, production is ramping up. And I think the first Mercedes A-Class are now on the road in Germany.\\n'],\n",
       "                          23: [\"The Toyota RAV4 EV program was doing very well. I think it's going to be a very compelling vehicle. Our\\ngoal with Tesla is to -- with the RAV4 is to have it beat the domestic acceleration of any vehicle with a\\nToyota nameplate. So excluding Lexus. Apart from Lexus, vehicles have best acceleration. And also, of\\ncourse, to have the best range of any mass-market vehicle.\\n\"],\n",
       "                          24: [\"In terms of operational guidance. Last quarter, our primary objective was to execute the Alpha build,\\nand that we did. And it's going -- actually it's slightly better than expected. And as I mentioned a while\\nago, we remain on track for first release of Model S in the middle of next year. This quarter, our Model S\\nactivities will be a great deal of testing of the Alphas for preparation for the Beta build, which will be done\\nin our Fremont factory. And in the spring, finishing off the stamping press, bringing our private plastics\\nfactory up and running, and getting paint and assembly active. It's all looking great. And that's about it for\\nme.\\n\"],\n",
       "                          25: ['Deepak Ahuja\\nFormer Chief Financial Officer\\n']}),\n",
       "             'Presentation_2': defaultdict(list,\n",
       "                         {26: ['Thank you, Elon. The major financial theme in Q1 was the very strong revenue and gross margin\\nperformance across all of our previous activities. Total revenue in Q1 was $49 million, a 35% increase over\\nQ4 and the highest quarterly revenue we have recorded.\\n'],\n",
       "                          27: ['Automotive sales, which include sales of Roadsters and powertrain components, increased sequentially by\\n15% to almost $34 million. We delivered 145 Roadsters in Q1, which is up strongly in comparison to the\\n126 deliveries in Q1 of last year, and just about equal to the deliveries in Q4, despite the severe winter\\nmonths in the quarter.\\n'],\n",
       "                          28: ['Average growth per selling prices remained relatively constant from the prior quarter, and the retail mix\\nwas slightly higher with leasing, which caused Roadster-related revenue to increase modestly to just over\\n$20 million.\\n'],\n",
       "                          29: ['Looking at the powertrain components of automotive sales, revenues were up almost 44% sequentially to\\n$13 million in the quarter. Therefore, due to record shipments of batteries and chargers for Daimler Smart\\nEV and the first full quarter of shipments of batteries and chargers for Daimler A-Class EV. Including the\\nincremental order of 300 Smart EVs that Elon referred to, we will continue to deliver our components to\\nboth these Daimler programs through 2011.\\n'],\n",
       "                          30: ['Development services revenue more than doubled sequentially to $15 million. This increase was primarily\\ndriven by the development program for Toyota RAV4 EV, as we completed the initial deliverables, and\\nshipped several early samples and prototype vehicles. We expect to recognize about $45 million in\\n'],\n",
       "                          31: ['Copyright © 2019 S&P Global Market Intelligence, a division of S&P Global Inc. All Rights reserved.\\nspglobal.com/marketintelligence\\n'],\n",
       "                          32: ['5\\n'],\n",
       "                          33: ['5\\n'],\n",
       "                          34: ['TESLA, INC. FQ1 2011 EARNINGS CALL |  MAY 04, 2011\\n'],\n",
       "                          35: ['additional development services revenue as we execute on our remaining deliverables under this program\\nover the next 3 to 4 quarters.\\n'],\n",
       "                          36: [\"As shared earlier, Toyota's intent is to enter into production with the RAV4 EV in 2012, and we're working\\njointly to finalize a separate agreement to supply the production components.\\n\"],\n",
       "                          37: ['Total gross margin for the quarter was a record 37% as compared to 31% last quarter. The gross margin\\nfrom our Automotive sales was 30%, matching our record gross margin from the last quarter due to a\\ncontinued focus on both average selling prices and cost control.\\n'],\n",
       "                          38: [\"Our operating expenses continue to reflect our efforts in developing the Model S, and the build-out of our\\ncompany infrastructure. Total operating expenses were $65 million on a GAAP basis and $60 million on a\\nnon-GAAP basis. A reconciliation of the non-GAAP information is included in today's earnings release.\\n\"],\n",
       "                          39: ['Non-GAAP operating expenses increased 8% sequentially, primarily due to greater R&D spending on the\\nModel S, expenses related to the Model S alpha build and employee-related expenses as a result of a 12%\\nsequential growth in headcount. Notably, non-GAAP SG&A spending rose only 6% sequentially, as a result\\nof our continued focus on controlling costs, with most of this increase due to growth in our worldwide\\nselling efforts.\\n'],\n",
       "                          40: ['Our higher operating expenses were more than offset by increased gross margin, thus narrowing the net\\nloss for the quarter as compared to Q4.\\n'],\n",
       "                          41: ['On a non-GAAP basis, net loss for the quarter was $42 million or $0.44 per share, with 95.2 million\\nweighted average common shares outstanding. For comparison, our non-GAAP net loss was $44 million in\\nQ4.\\n'],\n",
       "                          42: ['As we have previously indicated, we will continue to incur net losses for the next several quarters as we\\nmake significant investments in R&D and our corporate infrastructure to launch the Model S.\\n'],\n",
       "                          43: ['Turning now to the balance sheet. Our total capital resources, including cash on hand, cash in the DoE-\\ndedicated account and the remaining undrawn DoE loan facility, were approximately $506 million. We\\ncurrently anticipate that our available cash resources will be sufficient to fund our operations through the\\nlaunch of the Model S based on our present plans.\\n'],\n",
       "                          44: [\"With the alpha build now completed, we're pleased with the phase of development of Model S. And as we\\nhave previously discussed, the company will evaluate its fund-raising needs from time to time. And we'll\\nopportunistically raise additional funds, if market conditions are favorable.\\n\"],\n",
       "                          45: ['Looking at cash flows. Operating activities consumed $43 million in the quarter versus $34 million\\nin the prior quarter. This was primarily due to an increase in accounts receivable from Daimler and\\nToyota, partially offset by a significant increase in reservations collected during the quarter. And just as a\\nreminder, the majority of cash used in R&D activities is reimbursable under the DoE loan facility.\\n'],\n",
       "                          46: ['Finally, our inventory continue to grow to support our Roadster and powertrain sales. As previously\\nindicated, such increases will continue for the next few quarters prior to the planned end of Roadster drive\\nup production by the end of this year. This provides us with the ability to continue to sell any remaining\\nRoadsters in 2012.\\n'],\n",
       "                          47: ['Capital expenditures were $20 million this quarter. We still expect to invest about $190 million to $215\\nmillion this year primarily in tooling and manufacturing equipment required for the Model S program.\\nTherefore, we expect that our capital expenditures will increase significantly in the remaining quarters of\\nthis year. Note that the majority of these capital investments will be reimbursable under the terms of our\\nDoE loan facility.\\n'],\n",
       "                          48: ['[Technical Difficulty ]\\n'],\n",
       "                          49: [\"Capital expenditures were $20 million this quarter. I'm just going to continue from this point on. We\\nstill expect to invest about $190 million to $215 million this year, primarily in tooling and manufacturing\\nequipment related to the Model S program. Therefore, we expect that our capital expenditures will\\n\"],\n",
       "                          50: ['Copyright © 2019 S&P Global Market Intelligence, a division of S&P Global Inc. All Rights reserved.\\nspglobal.com/marketintelligence\\n'],\n",
       "                          51: ['6\\n'],\n",
       "                          52: ['6\\n'],\n",
       "                          53: ['TESLA, INC. FQ1 2011 EARNINGS CALL |  MAY 04, 2011\\n'],\n",
       "                          54: ['increase significantly in the remaining quarters of this year. Note that the majority of these capital\\ninvestments will be reimbursable under the terms of the DoE loan.\\n'],\n",
       "                          55: ['Offsetting our cash usage in this quarter was the drawdown of $31 million from our DoE loan at interest\\nrates close to 3%. Recall that the DoE loan funds half the eligible expenses upfront and the remaining half\\non a deferred basis.\\n'],\n",
       "                          56: [\"Next I'd like to offer some thoughts on revenue guidance. We now project that full year revenue will be\\nbetween $170 million to $185 million, up from our previous guidance of $160 million to $175 million. Also\\nfrom our previous guidance, we anticipate that R&D spending will continue to grow at a moderate pace,\\nand SG&A should grow slightly.\\n\"],\n",
       "                          57: [\"Regarding Model S reservations, the growth of almost 900 reservations in Q1 is a measure of the strong\\ncustomer interest in this car despite our limited marketing efforts. We had received slightly over 4,200\\nModel S reservations as of March 31, and have now surpassed 4,600. Again, we're not providing guidance\\non this metric, as we have not yet embarked on focused marketing activities for Model S sales.\\n\"],\n",
       "                          58: [\"I'd like to conclude by reinforcing that we continue to be excited about our long-term opportunities. This\\nends our prepared remarks, and I'm going to turn it over to Jeff, at this point, for additional comments.\\n\"],\n",
       "                          59: ['Jeffrey K. Evanson\\nFormer Vice President of Investor Relations\\n']}),\n",
       "             'Presentation_3': defaultdict(list,\n",
       "                         {60: [\"Thank you, Deepak. Before we begin the Q&A, we'd like to announce that we will be changing the formats\\nof our quarterly earnings releases starting next quarter. Our second quarter results, we expect will be\\nreleased in August. We hope everyone will find these changes save time.\\n\"],\n",
       "                          61: ['The first change is that rather than issuing a press release with our quarterly results, we will simply issue\\na short press release, announcing that our quarterly results are available on our website. These results will\\ntake the form of a quarterly shareholder letter. There will be no change to the level of disclosure or any of\\nthe financial tables but simply where and how it is presented. We expect to post this quarterly shareholder\\nletter at ir.teslamotors.com under Events & Presentations, as well as in an 8-K filing with the SEC.\\n'],\n",
       "                          62: [\"Second, rather than have Elon and Deepak read through their highlights of the quarter during the\\nconference call, we'll include that information in the quarterly shareholder letter. We will continue to\\nhost the conference call after the results have been posted to answer any questions from investors and\\nanalysts.\\n\"],\n",
       "                          63: [\"So to recap, going forward, the financial release will be on our website in the form of a shareholder letter,\\nand Elon and Deepak's comments will be included in written form in that letter. Nothing else will change.\\nSo with that, Tyrone, let's open the call for questions, please.\\n\"],\n",
       "                          64: ['Copyright © 2019 S&P Global Market Intelligence, a division of S&P Global Inc. All Rights reserved.\\nspglobal.com/marketintelligence\\n'],\n",
       "                          65: ['7\\n'],\n",
       "                          66: ['7\\n'],\n",
       "                          67: ['TESLA, INC. FQ1 2011 EARNINGS CALL |  MAY 04, 2011\\n']})})"
      ]
     },
     "execution_count": 13,
     "metadata": {},
     "output_type": "execute_result"
    }
   ],
   "source": [
    "speech_speech_dict"
   ]
  },
  {
   "cell_type": "code",
   "execution_count": 14,
   "id": "15d81d4e",
   "metadata": {},
   "outputs": [
    {
     "data": {
      "text/plain": [
       "defaultdict(<function __main__.analyst_executives.<locals>.<lambda>()>,\n",
       "            {'analysts': defaultdict(str,\n",
       "                         {'Adam Michael Jonas': 'Morgan Stanley, Research Division',\n",
       "                          'Andrea Susan James': 'Dougherty & Company LLC,',\n",
       "                          'Daniel V. Galves': 'Deutsche Bank AG, Research',\n",
       "                          'Himanshu A. Patel': 'JP Morgan Chase & Co, Research',\n",
       "                          'Patrick Kenehan Archambault': 'Goldman Sachs Group Inc.,',\n",
       "                          'Unknown Analyst': ''}),\n",
       "             'executives': defaultdict(str,\n",
       "                         {'Deepak Ahuja': 'Former Chief Financial Officer',\n",
       "                          'Elon R. Musk': 'Co-Founder, CEO, Director &',\n",
       "                          'Jeffrey K. Evanson': 'Former Vice President of Investor'})})"
      ]
     },
     "execution_count": 14,
     "metadata": {},
     "output_type": "execute_result"
    }
   ],
   "source": [
    "ppl"
   ]
  },
  {
   "cell_type": "code",
   "execution_count": 15,
   "id": "2ef5a9f7",
   "metadata": {},
   "outputs": [
    {
     "data": {
      "text/plain": [
       "defaultdict(<function __main__.speech_dict.<locals>.<lambda>()>,\n",
       "            {'Presentation_0': 'Jeffrey K. Evanson',\n",
       "             'Presentation_1': 'Elon R. Musk',\n",
       "             'Presentation_2': 'Deepak Ahuja',\n",
       "             'Presentation_3': 'Jeffrey K. Evanson'})"
      ]
     },
     "execution_count": 15,
     "metadata": {},
     "output_type": "execute_result"
    }
   ],
   "source": [
    "speech_people"
   ]
  },
  {
   "cell_type": "code",
   "execution_count": 16,
   "id": "6d183468",
   "metadata": {},
   "outputs": [
    {
     "data": {
      "text/plain": [
       "'Wednesday, May 04, 2011 9:00 PM GMT\\nS&P'"
      ]
     },
     "execution_count": 16,
     "metadata": {},
     "output_type": "execute_result"
    }
   ],
   "source": [
    "time"
   ]
  },
  {
   "cell_type": "code",
   "execution_count": null,
   "id": "629da80c",
   "metadata": {},
   "outputs": [],
   "source": []
  },
  {
   "cell_type": "code",
   "execution_count": null,
   "id": "22273266",
   "metadata": {},
   "outputs": [],
   "source": []
  },
  {
   "cell_type": "code",
   "execution_count": null,
   "id": "da46798c",
   "metadata": {},
   "outputs": [],
   "source": []
  },
  {
   "cell_type": "code",
   "execution_count": null,
   "id": "c5ce7c8d",
   "metadata": {},
   "outputs": [],
   "source": []
  },
  {
   "cell_type": "code",
   "execution_count": null,
   "id": "b4475d4d",
   "metadata": {},
   "outputs": [],
   "source": []
  },
  {
   "cell_type": "code",
   "execution_count": null,
   "id": "6079dbc6",
   "metadata": {},
   "outputs": [],
   "source": []
  },
  {
   "cell_type": "code",
   "execution_count": null,
   "id": "3ba95a65",
   "metadata": {},
   "outputs": [],
   "source": []
  },
  {
   "cell_type": "code",
   "execution_count": null,
   "id": "4e87013c",
   "metadata": {},
   "outputs": [],
   "source": []
  }
 ],
 "metadata": {
  "kernelspec": {
   "display_name": "Python 3 (ipykernel)",
   "language": "python",
   "name": "python3"
  },
  "language_info": {
   "codemirror_mode": {
    "name": "ipython",
    "version": 3
   },
   "file_extension": ".py",
   "mimetype": "text/x-python",
   "name": "python",
   "nbconvert_exporter": "python",
   "pygments_lexer": "ipython3",
   "version": "3.10.9"
  }
 },
 "nbformat": 4,
 "nbformat_minor": 5
}
