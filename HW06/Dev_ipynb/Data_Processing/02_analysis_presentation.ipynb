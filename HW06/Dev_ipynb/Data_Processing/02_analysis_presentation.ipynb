{
 "cells": [
  {
   "cell_type": "code",
   "execution_count": 1,
   "id": "92bcb264",
   "metadata": {},
   "outputs": [
    {
     "name": "stderr",
     "output_type": "stream",
     "text": [
      "[nltk_data] Downloading package names to /Users/rory/nltk_data...\n",
      "[nltk_data]   Package names is already up-to-date!\n",
      "[nltk_data] Downloading package stopwords to /Users/rory/nltk_data...\n",
      "[nltk_data]   Package stopwords is already up-to-date!\n",
      "[nltk_data] Downloading package state_union to\n",
      "[nltk_data]     /Users/rory/nltk_data...\n",
      "[nltk_data]   Package state_union is already up-to-date!\n",
      "[nltk_data] Downloading package twitter_samples to\n",
      "[nltk_data]     /Users/rory/nltk_data...\n",
      "[nltk_data]   Package twitter_samples is already up-to-date!\n",
      "[nltk_data] Downloading package movie_reviews to\n",
      "[nltk_data]     /Users/rory/nltk_data...\n",
      "[nltk_data]   Package movie_reviews is already up-to-date!\n",
      "[nltk_data] Downloading package averaged_perceptron_tagger to\n",
      "[nltk_data]     /Users/rory/nltk_data...\n",
      "[nltk_data]   Package averaged_perceptron_tagger is already up-to-\n",
      "[nltk_data]       date!\n",
      "[nltk_data] Downloading package vader_lexicon to\n",
      "[nltk_data]     /Users/rory/nltk_data...\n",
      "[nltk_data]   Package vader_lexicon is already up-to-date!\n",
      "[nltk_data] Downloading package punkt to /Users/rory/nltk_data...\n",
      "[nltk_data]   Package punkt is already up-to-date!\n"
     ]
    }
   ],
   "source": [
    "import nltk\n",
    "import numpy as np\n",
    "import pandas as pd\n",
    "import re\n",
    "import matplotlib.pyplot as plt\n",
    "\n",
    "from collections import defaultdict\n",
    "from nltk.sentiment import SentimentIntensityAnalyzer\n",
    "\n",
    "stopwords = nltk.corpus.stopwords.words(\"english\")\n",
    "\n",
    "nltk.download([\n",
    "        \"names\",\n",
    "        \"stopwords\",\n",
    "        \"state_union\",\n",
    "        \"twitter_samples\",\n",
    "        \"movie_reviews\",\n",
    "        \"averaged_perceptron_tagger\",\n",
    "        \"vader_lexicon\",\n",
    "        \"punkt\",\n",
    "])\n",
    "\n",
    "sia = SentimentIntensityAnalyzer()"
   ]
  },
  {
   "cell_type": "code",
   "execution_count": null,
   "id": "53aba292",
   "metadata": {},
   "outputs": [],
   "source": []
  },
  {
   "cell_type": "code",
   "execution_count": 2,
   "id": "e127578d",
   "metadata": {},
   "outputs": [],
   "source": [
    "def words_(text):\n",
    "    words = re.split('; |, |\\*|\\n| ', \n",
    "                     [''.join([' '.join(re.split('; |, |\\*|\\n| |[0-9]|%|&|©|[$]|-|[|]|[\\']|[/]|[?]|\\]|\\[|[S]|[A]|[P]|[B]|[L]|[TE]',\n",
    "                                               text))][0].split(r\".\"))][0])\n",
    "    words = [' '.join(words)][0]\n",
    "    return nltk.word_tokenize(words)\n",
    "\n",
    "def words_remove_stopwords(words):\n",
    "    \n",
    "    words=[w for w in words if w not in stopwords]\n",
    "    \n",
    "    return words\n",
    "\n",
    "def words_remove_meaningless_words(words):\n",
    "    \n",
    "    meaningless_words=['Thank', 'thank', 'Welcome',\n",
    "                       'GAAP', 'quarter', 'million',\n",
    "                       'GAAP', 'Copyright']\n",
    "    \n",
    "    words=[w for w in words if w not in meaningless_words]\n",
    "    \n",
    "    return words\n",
    "\n",
    "def join(text):\n",
    "    return [' '.join(text)]\n",
    "\n",
    "def split_(text):\n",
    "    return re.split(\" \", text)"
   ]
  },
  {
   "cell_type": "code",
   "execution_count": null,
   "id": "e45330d2",
   "metadata": {},
   "outputs": [],
   "source": []
  },
  {
   "cell_type": "code",
   "execution_count": 5,
   "id": "e8c51443",
   "metadata": {},
   "outputs": [],
   "source": [
    "path='/Volumes/4TB/ConferenceCall/Tesla/csvfile/tesla_earning_call_presentation_all.csv'"
   ]
  },
  {
   "cell_type": "code",
   "execution_count": 6,
   "id": "ad7ded60",
   "metadata": {
    "scrolled": true
   },
   "outputs": [],
   "source": [
    "data=pd.read_csv(path)\n",
    "data['call_datetime']=pd.to_datetime(data['call_datetime'], format='%Y-%m-%d')\n",
    "data=data.sort_values('call_datetime')"
   ]
  },
  {
   "cell_type": "code",
   "execution_count": null,
   "id": "c19e1856",
   "metadata": {},
   "outputs": [],
   "source": []
  },
  {
   "cell_type": "code",
   "execution_count": 7,
   "id": "051a895b",
   "metadata": {
    "scrolled": true
   },
   "outputs": [],
   "source": [
    "data['presentationa_text']=data['presentationa_all'].apply(lambda x: words_(x))\n",
    "\n",
    "data['presentationa_text_removestopwords']=\\\n",
    "data['presentationa_text'].apply(lambda x: words_remove_stopwords(x))\n",
    "\n",
    "data['presentationa_text_removestopwords']=\\\n",
    "data['presentationa_text_removestopwords'].apply(lambda x: words_remove_meaningless_words(x))\n",
    "\n",
    "# data['presentationa_text_removestopwords']=\\\n",
    "# data['presentationa_text_removestopwords'].apply(lambda x:[' '.join(x)])\n",
    "\n",
    "# data['presentationa_text_removestopwords']=\\\n",
    "# data['presentationa_text_removestopwords'].apply(lambda x: split_(x[0]))"
   ]
  },
  {
   "cell_type": "code",
   "execution_count": null,
   "id": "435e0781",
   "metadata": {},
   "outputs": [],
   "source": []
  },
  {
   "cell_type": "code",
   "execution_count": 9,
   "id": "b0302835",
   "metadata": {},
   "outputs": [],
   "source": [
    "data['presentationa_neg']=\\\n",
    "data['presentationa_all'].apply(lambda x: sia.polarity_scores(x)['neg'])\n",
    "\n",
    "data['presentationa_pos']=\\\n",
    "data['presentationa_all'].apply(lambda x: sia.polarity_scores(x)['pos'])\n",
    "\n",
    "data['presentationa_neu']=\\\n",
    "data['presentationa_all'].apply(lambda x: sia.polarity_scores(x)['neu'])"
   ]
  },
  {
   "cell_type": "code",
   "execution_count": null,
   "id": "1fa3aa8f",
   "metadata": {},
   "outputs": [],
   "source": []
  },
  {
   "cell_type": "code",
   "execution_count": 10,
   "id": "a4df1976",
   "metadata": {},
   "outputs": [
    {
     "data": {
      "text/plain": [
       "<matplotlib.legend.Legend at 0x7fc824ffd8d0>"
      ]
     },
     "execution_count": 10,
     "metadata": {},
     "output_type": "execute_result"
    },
    {
     "data": {
      "image/png": "[encoded data removed]",
      "text/plain": [
       "<Figure size 900x200 with 1 Axes>"
      ]
     },
     "metadata": {},
     "output_type": "display_data"
    }
   ],
   "source": [
    "csfont = {'fontname':'serif'}\n",
    "sizetext=12\n",
    "\n",
    "fig, (ax1) = plt.subplots(nrows = 1, ncols = 1, figsize = (9, 2))\n",
    "\n",
    "ax1.plot(data['call_datetime'], data['presentationa_neg'], label='neg', color='r')\n",
    "ax1.plot(data['call_datetime'], data['presentationa_pos'], label='pos', color='b')\n",
    "\n",
    "ax1.set_title(\"Sentiment: Presentation\", **csfont, size = sizetext)\n",
    "ax1.set_ylabel('score', size = sizetext, **csfont)\n",
    "ax1.set_xlabel('date', size = sizetext, **csfont)\n",
    "ax1.grid(linewidth=0.5)\n",
    "plt.legend()"
   ]
  },
  {
   "cell_type": "code",
   "execution_count": null,
   "id": "3514c8e5",
   "metadata": {},
   "outputs": [],
   "source": []
  },
  {
   "cell_type": "code",
   "execution_count": null,
   "id": "815f9f59",
   "metadata": {},
   "outputs": [],
   "source": []
  },
  {
   "cell_type": "code",
   "execution_count": 12,
   "id": "947ad9a4",
   "metadata": {},
   "outputs": [],
   "source": [
    "path_output='/Volumes/4TB/ConferenceCall/Tesla/csvfile/tesla_earning_call_presentation_all_sentiment.csv'"
   ]
  },
  {
   "cell_type": "code",
   "execution_count": 13,
   "id": "56f8fe99",
   "metadata": {},
   "outputs": [],
   "source": [
    "data.to_csv(path_output, index = False)"
   ]
  },
  {
   "cell_type": "code",
   "execution_count": null,
   "id": "9b44c50a",
   "metadata": {},
   "outputs": [],
   "source": []
  },
  {
   "cell_type": "code",
   "execution_count": null,
   "id": "0b20d937",
   "metadata": {},
   "outputs": [],
   "source": []
  },
  {
   "cell_type": "code",
   "execution_count": null,
   "id": "f6c62f1a",
   "metadata": {},
   "outputs": [],
   "source": []
  },
  {
   "cell_type": "code",
   "execution_count": null,
   "id": "310218b5",
   "metadata": {},
   "outputs": [],
   "source": []
  },
  {
   "cell_type": "code",
   "execution_count": null,
   "id": "2c16ad80",
   "metadata": {},
   "outputs": [],
   "source": []
  },
  {
   "cell_type": "code",
   "execution_count": null,
   "id": "aeb0dc3e",
   "metadata": {},
   "outputs": [],
   "source": []
  }
 ],
 "metadata": {
  "kernelspec": {
   "display_name": "Python 3 (ipykernel)",
   "language": "python",
   "name": "python3"
  },
  "language_info": {
   "codemirror_mode": {
    "name": "ipython",
    "version": 3
   },
   "file_extension": ".py",
   "mimetype": "text/x-python",
   "name": "python",
   "nbconvert_exporter": "python",
   "pygments_lexer": "ipython3",
   "version": "3.10.9"
  }
 },
 "nbformat": 4,
 "nbformat_minor": 5
}
