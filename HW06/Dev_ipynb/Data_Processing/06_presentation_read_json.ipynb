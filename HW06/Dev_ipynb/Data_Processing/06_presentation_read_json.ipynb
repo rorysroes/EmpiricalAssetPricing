{
 "cells": [
  {
   "cell_type": "code",
   "execution_count": 65,
   "id": "3a881cb0",
   "metadata": {},
   "outputs": [],
   "source": [
    "import PyPDF2\n",
    "import json\n",
    "import glob\n",
    "import numpy as np\n",
    "import pdfplumber\n",
    "import pandas as pd\n",
    "import matplotlib.pyplot as plt\n",
    "\n",
    "from itertools import chain\n",
    "from collections import defaultdict\n",
    "from pdfminer.high_level import extract_pages, extract_text\n",
    "from pdfminer.layout import LTTextContainer, LTChar, LTRect, LTFigure"
   ]
  },
  {
   "cell_type": "code",
   "execution_count": 2,
   "id": "aea4cae7",
   "metadata": {},
   "outputs": [],
   "source": [
    "def monthToNum(shortMonth):\n",
    "    return {\n",
    "            'January': \"01\",\n",
    "            'February': \"02\",\n",
    "            'March': \"03\",\n",
    "            'April': \"04\",\n",
    "            'May': \"05\",\n",
    "            'June': \"06\",\n",
    "            'July': \"07\",\n",
    "            'August': \"08\",\n",
    "            'September': \"09\", \n",
    "            'October': \"10\",\n",
    "            'November': \"11\",\n",
    "            'December': \"12\"\n",
    "    }[shortMonth]\n",
    "\n",
    "def defaultify(d):\n",
    "    \n",
    "    # https://stackoverflow.com/questions/50013768/how-can-i-convert-nested-dictionary-to-defaultdict\n",
    "    \n",
    "    if not isinstance(d, dict):\n",
    "        return d\n",
    "    return defaultdict(lambda: None, {k: defaultify(v) for k, v in d.items()})"
   ]
  },
  {
   "cell_type": "code",
   "execution_count": 3,
   "id": "c304a9d0",
   "metadata": {},
   "outputs": [],
   "source": [
    "path_output=\\\n",
    "'/Volumes/4TB/ConferenceCall/Tesla/csvfile/tesla_earning_call_presentation.json'"
   ]
  },
  {
   "cell_type": "code",
   "execution_count": 4,
   "id": "b83c8580",
   "metadata": {},
   "outputs": [],
   "source": [
    "with open(path_output, 'r') as openfile:\n",
    "     json_object = json.load(openfile)\n",
    "# print(json_object)\n",
    "# print(type(json_object))"
   ]
  },
  {
   "cell_type": "code",
   "execution_count": 5,
   "id": "4141fe09",
   "metadata": {},
   "outputs": [],
   "source": [
    "def_object=defaultify(json_object)"
   ]
  },
  {
   "cell_type": "code",
   "execution_count": null,
   "id": "9d2d0599",
   "metadata": {},
   "outputs": [],
   "source": []
  },
  {
   "cell_type": "code",
   "execution_count": 7,
   "id": "749ac0c8",
   "metadata": {
    "scrolled": true
   },
   "outputs": [
    {
     "name": "stderr",
     "output_type": "stream",
     "text": [
      "/var/folders/6l/2d59bcb16yjbzzkcgz02zhn00000gn/T/ipykernel_82878/3791956451.py:18: SettingWithCopyWarning: \n",
      "A value is trying to be set on a copy of a slice from a DataFrame.\n",
      "Try using .loc[row_indexer,col_indexer] = value instead\n",
      "\n",
      "See the caveats in the documentation: https://pandas.pydata.org/pandas-docs/stable/user_guide/indexing.html#returning-a-view-versus-a-copy\n",
      "  data_table_.loc[:, 'text01']=\\\n"
     ]
    }
   ],
   "source": [
    "data_table=\\\n",
    "pd.DataFrame([\n",
    "              col1, col2, col3, col4, d4\n",
    "             ]\n",
    "              for col1, d1 in def_object.items()\\\n",
    "              for col2, d2 in d1.items()\\\n",
    "              for col3, d3 in d2.items()\\\n",
    "              for col4, d4 in d3.items()\n",
    "            )\n",
    "data_table=data_table.rename(columns={0: 'time',\n",
    "                                      1: 'company',\n",
    "                                      2: 'chara1',\n",
    "                                      3: 'chara2',\n",
    "                                      4: 'text'})\n",
    "\n",
    "data_table_=data_table[data_table['chara1'] == 'presentation_people_speech']\n",
    "\n",
    "data_table_.loc[:, 'text01']=\\\n",
    "data_table_.loc[:, 'text'].apply(\n",
    "    lambda x: list(x.values())).apply(\n",
    "    lambda x: list(chain.from_iterable(x))).apply(\n",
    "    lambda x: ' '.join(x))\n",
    "\n",
    "data_table_=data_table_.reset_index(drop=True)"
   ]
  },
  {
   "cell_type": "code",
   "execution_count": 10,
   "id": "5e492e7a",
   "metadata": {},
   "outputs": [
    {
     "data": {
      "text/html": [
       "<div>\n",
       "<style scoped>\n",
       "    .dataframe tbody tr th:only-of-type {\n",
       "        vertical-align: middle;\n",
       "    }\n",
       "\n",
       "    .dataframe tbody tr th {\n",
       "        vertical-align: top;\n",
       "    }\n",
       "\n",
       "    .dataframe thead th {\n",
       "        text-align: right;\n",
       "    }\n",
       "</style>\n",
       "<table border=\"1\" class=\"dataframe\">\n",
       "  <thead>\n",
       "    <tr style=\"text-align: right;\">\n",
       "      <th></th>\n",
       "      <th>time</th>\n",
       "      <th>company</th>\n",
       "      <th>chara1</th>\n",
       "      <th>chara2</th>\n",
       "      <th>text</th>\n",
       "      <th>text01</th>\n",
       "    </tr>\n",
       "  </thead>\n",
       "  <tbody>\n",
       "    <tr>\n",
       "      <th>0</th>\n",
       "      <td>Wednesday, May 04, 2011 9:00 PM GMT\\nS&amp;P</td>\n",
       "      <td>Tesla Motors, Inc., Q1 2011 Earnings Call, May...</td>\n",
       "      <td>presentation_people_speech</td>\n",
       "      <td>Presentation_0</td>\n",
       "      <td>{'4': ['Thank you, Tyrone, and thank you all f...</td>\n",
       "      <td>Thank you, Tyrone, and thank you all for joini...</td>\n",
       "    </tr>\n",
       "    <tr>\n",
       "      <th>1</th>\n",
       "      <td>Wednesday, May 04, 2011 9:00 PM GMT\\nS&amp;P</td>\n",
       "      <td>Tesla Motors, Inc., Q1 2011 Earnings Call, May...</td>\n",
       "      <td>presentation_people_speech</td>\n",
       "      <td>Presentation_1</td>\n",
       "      <td>{'9': ['Hi, so we had a another solid quarter ...</td>\n",
       "      <td>Hi, so we had a another solid quarter of execu...</td>\n",
       "    </tr>\n",
       "    <tr>\n",
       "      <th>2</th>\n",
       "      <td>Wednesday, May 04, 2011 9:00 PM GMT\\nS&amp;P</td>\n",
       "      <td>Tesla Motors, Inc., Q1 2011 Earnings Call, May...</td>\n",
       "      <td>presentation_people_speech</td>\n",
       "      <td>Presentation_2</td>\n",
       "      <td>{'26': ['Thank you, Elon. The major financial ...</td>\n",
       "      <td>Thank you, Elon. The major financial theme in ...</td>\n",
       "    </tr>\n",
       "    <tr>\n",
       "      <th>3</th>\n",
       "      <td>Wednesday, May 04, 2011 9:00 PM GMT\\nS&amp;P</td>\n",
       "      <td>Tesla Motors, Inc., Q1 2011 Earnings Call, May...</td>\n",
       "      <td>presentation_people_speech</td>\n",
       "      <td>Presentation_3</td>\n",
       "      <td>{'60': ['Thank you, Deepak. Before we begin th...</td>\n",
       "      <td>Thank you, Deepak. Before we begin the Q&amp;A, we...</td>\n",
       "    </tr>\n",
       "    <tr>\n",
       "      <th>4</th>\n",
       "      <td>Wednesday, May 09, 2012 9:30 PM GMT\\nS&amp;P</td>\n",
       "      <td>Tesla Motors, Inc., Q1 2012 Earnings Call, May...</td>\n",
       "      <td>presentation_people_speech</td>\n",
       "      <td>Presentation_0</td>\n",
       "      <td>{'4': ['Thank you, Patrick, and good afternoon...</td>\n",
       "      <td>Thank you, Patrick, and good afternoon, everyo...</td>\n",
       "    </tr>\n",
       "    <tr>\n",
       "      <th>...</th>\n",
       "      <td>...</td>\n",
       "      <td>...</td>\n",
       "      <td>...</td>\n",
       "      <td>...</td>\n",
       "      <td>...</td>\n",
       "      <td>...</td>\n",
       "    </tr>\n",
       "    <tr>\n",
       "      <th>168</th>\n",
       "      <td>Wednesday, February 22, 2017 10:30 PM G</td>\n",
       "      <td>Tesla Motors, Inc., Q4 2016 Earnings Call, Oct...</td>\n",
       "      <td>presentation_people_speech</td>\n",
       "      <td>Presentation_4</td>\n",
       "      <td>{'24': ['All right. So thanks -- and Jason, th...</td>\n",
       "      <td>All right. So thanks -- and Jason, thank you a...</td>\n",
       "    </tr>\n",
       "    <tr>\n",
       "      <th>169</th>\n",
       "      <td>Wednesday, February 22, 2017 10:30 PM G</td>\n",
       "      <td>Tesla Motors, Inc., Q4 2016 Earnings Call, Oct...</td>\n",
       "      <td>presentation_people_speech</td>\n",
       "      <td>Presentation_5</td>\n",
       "      <td>{'28': ['So let's see. I think the -- yes.\n",
       "'],...</td>\n",
       "      <td>So let's see. I think the -- yes.\\n Jeffrey K....</td>\n",
       "    </tr>\n",
       "    <tr>\n",
       "      <th>170</th>\n",
       "      <td>Wednesday, February 22, 2017 10:30 PM G</td>\n",
       "      <td>Tesla Motors, Inc., Q4 2016 Earnings Call, Oct...</td>\n",
       "      <td>presentation_people_speech</td>\n",
       "      <td>Presentation_6</td>\n",
       "      <td>{'30': ['Well, I think we're ready for the fir...</td>\n",
       "      <td>Well, I think we're ready for the first questi...</td>\n",
       "    </tr>\n",
       "    <tr>\n",
       "      <th>171</th>\n",
       "      <td>Wednesday, February 22, 2017 10:30 PM G</td>\n",
       "      <td>Tesla Motors, Inc., Q4 2016 Earnings Call, Oct...</td>\n",
       "      <td>presentation_people_speech</td>\n",
       "      <td>Presentation_7</td>\n",
       "      <td>{'32': ['Yes. That's just right. Do you have a...</td>\n",
       "      <td>Yes. That's just right. Do you have any questi...</td>\n",
       "    </tr>\n",
       "    <tr>\n",
       "      <th>172</th>\n",
       "      <td>Wednesday, February 22, 2017 10:30 PM G</td>\n",
       "      <td>Tesla Motors, Inc., Q4 2016 Earnings Call, Oct...</td>\n",
       "      <td>presentation_people_speech</td>\n",
       "      <td>Presentation_8</td>\n",
       "      <td>{'34': ['Copyright © 2019 S&amp;P Global Market In...</td>\n",
       "      <td>Copyright © 2019 S&amp;P Global Market Intelligenc...</td>\n",
       "    </tr>\n",
       "  </tbody>\n",
       "</table>\n",
       "<p>173 rows × 6 columns</p>\n",
       "</div>"
      ],
      "text/plain": [
       "                                         time  \\\n",
       "0    Wednesday, May 04, 2011 9:00 PM GMT\\nS&P   \n",
       "1    Wednesday, May 04, 2011 9:00 PM GMT\\nS&P   \n",
       "2    Wednesday, May 04, 2011 9:00 PM GMT\\nS&P   \n",
       "3    Wednesday, May 04, 2011 9:00 PM GMT\\nS&P   \n",
       "4    Wednesday, May 09, 2012 9:30 PM GMT\\nS&P   \n",
       "..                                        ...   \n",
       "168   Wednesday, February 22, 2017 10:30 PM G   \n",
       "169   Wednesday, February 22, 2017 10:30 PM G   \n",
       "170   Wednesday, February 22, 2017 10:30 PM G   \n",
       "171   Wednesday, February 22, 2017 10:30 PM G   \n",
       "172   Wednesday, February 22, 2017 10:30 PM G   \n",
       "\n",
       "                                               company  \\\n",
       "0    Tesla Motors, Inc., Q1 2011 Earnings Call, May...   \n",
       "1    Tesla Motors, Inc., Q1 2011 Earnings Call, May...   \n",
       "2    Tesla Motors, Inc., Q1 2011 Earnings Call, May...   \n",
       "3    Tesla Motors, Inc., Q1 2011 Earnings Call, May...   \n",
       "4    Tesla Motors, Inc., Q1 2012 Earnings Call, May...   \n",
       "..                                                 ...   \n",
       "168  Tesla Motors, Inc., Q4 2016 Earnings Call, Oct...   \n",
       "169  Tesla Motors, Inc., Q4 2016 Earnings Call, Oct...   \n",
       "170  Tesla Motors, Inc., Q4 2016 Earnings Call, Oct...   \n",
       "171  Tesla Motors, Inc., Q4 2016 Earnings Call, Oct...   \n",
       "172  Tesla Motors, Inc., Q4 2016 Earnings Call, Oct...   \n",
       "\n",
       "                         chara1          chara2  \\\n",
       "0    presentation_people_speech  Presentation_0   \n",
       "1    presentation_people_speech  Presentation_1   \n",
       "2    presentation_people_speech  Presentation_2   \n",
       "3    presentation_people_speech  Presentation_3   \n",
       "4    presentation_people_speech  Presentation_0   \n",
       "..                          ...             ...   \n",
       "168  presentation_people_speech  Presentation_4   \n",
       "169  presentation_people_speech  Presentation_5   \n",
       "170  presentation_people_speech  Presentation_6   \n",
       "171  presentation_people_speech  Presentation_7   \n",
       "172  presentation_people_speech  Presentation_8   \n",
       "\n",
       "                                                  text  \\\n",
       "0    {'4': ['Thank you, Tyrone, and thank you all f...   \n",
       "1    {'9': ['Hi, so we had a another solid quarter ...   \n",
       "2    {'26': ['Thank you, Elon. The major financial ...   \n",
       "3    {'60': ['Thank you, Deepak. Before we begin th...   \n",
       "4    {'4': ['Thank you, Patrick, and good afternoon...   \n",
       "..                                                 ...   \n",
       "168  {'24': ['All right. So thanks -- and Jason, th...   \n",
       "169  {'28': ['So let's see. I think the -- yes.\n",
       "'],...   \n",
       "170  {'30': ['Well, I think we're ready for the fir...   \n",
       "171  {'32': ['Yes. That's just right. Do you have a...   \n",
       "172  {'34': ['Copyright © 2019 S&P Global Market In...   \n",
       "\n",
       "                                                text01  \n",
       "0    Thank you, Tyrone, and thank you all for joini...  \n",
       "1    Hi, so we had a another solid quarter of execu...  \n",
       "2    Thank you, Elon. The major financial theme in ...  \n",
       "3    Thank you, Deepak. Before we begin the Q&A, we...  \n",
       "4    Thank you, Patrick, and good afternoon, everyo...  \n",
       "..                                                 ...  \n",
       "168  All right. So thanks -- and Jason, thank you a...  \n",
       "169  So let's see. I think the -- yes.\\n Jeffrey K....  \n",
       "170  Well, I think we're ready for the first questi...  \n",
       "171  Yes. That's just right. Do you have any questi...  \n",
       "172  Copyright © 2019 S&P Global Market Intelligenc...  \n",
       "\n",
       "[173 rows x 6 columns]"
      ]
     },
     "execution_count": 10,
     "metadata": {},
     "output_type": "execute_result"
    }
   ],
   "source": [
    "data_table_"
   ]
  },
  {
   "cell_type": "code",
   "execution_count": 16,
   "id": "1787c93f",
   "metadata": {},
   "outputs": [],
   "source": [
    "data_table_[\"call_date\"]=data_table_[\"time\"].apply(lambda x: x.split(',')[1])\n",
    "data_table_[\"call_year\"]=\\\n",
    "data_table_[\"time\"].apply(lambda x: x.split(',')[2][0:5])\n",
    "data_table_[\"call_time\"]=\\\n",
    "data_table_[\"time\"].apply(lambda x: x.split(',')[2][5:11])\n",
    "data_table_[\"quarter\"]=\\\n",
    "data_table_[\"company\"].apply(lambda x: x.split(',')[2][:3])\n",
    "data_table_[\"year_quarter\"]=\\\n",
    "data_table_[\"company\"].apply(lambda x: x.split(',')[2][3:9])\n",
    "data_table_[\"company_name\"]=data_table_[\"company\"].apply(lambda x: x.split(',')[0][0:12])\n",
    "data_table_=data_table_.sort_values(['year_quarter', 'quarter'])\n",
    "data_table_=data_table_.reset_index(drop=True)"
   ]
  },
  {
   "cell_type": "code",
   "execution_count": 22,
   "id": "280dc222",
   "metadata": {
    "scrolled": true
   },
   "outputs": [],
   "source": [
    "data_table_['call_month']=\\\n",
    "data_table_['call_date'].apply(\n",
    "    lambda x: x.split(' ')[1]).apply(\n",
    "    lambda x: monthToNum(x))\n",
    "\n",
    "data_table_['call_day']=\\\n",
    "data_table_['call_date'].apply(\n",
    "    lambda x: x.split(' ')[2])"
   ]
  },
  {
   "cell_type": "code",
   "execution_count": 23,
   "id": "072fdd8b",
   "metadata": {},
   "outputs": [],
   "source": [
    "cols = data_table_.loc[:, ['call_year', 'call_month', 'call_day']].columns\n",
    "data_table_['call_datetime']=\\\n",
    "data_table_[cols].apply(\n",
    "    lambda x: '-'.join(x.dropna().astype(str)), 1)"
   ]
  },
  {
   "cell_type": "code",
   "execution_count": 34,
   "id": "8aa019f5",
   "metadata": {
    "scrolled": true
   },
   "outputs": [],
   "source": [
    "data_table_=data_table_.sort_values(['call_datetime'])"
   ]
  },
  {
   "cell_type": "code",
   "execution_count": 80,
   "id": "07820a7a",
   "metadata": {},
   "outputs": [
    {
     "data": {
      "text/plain": [
       "3.326923076923077"
      ]
     },
     "execution_count": 80,
     "metadata": {},
     "output_type": "execute_result"
    }
   ],
   "source": [
    "data_table_.groupby(['call_datetime'])['chara2'].nunique().mean()"
   ]
  },
  {
   "cell_type": "code",
   "execution_count": 38,
   "id": "45569f3d",
   "metadata": {},
   "outputs": [
    {
     "data": {
      "text/plain": [
       "call_datetime\n",
       " 2010-11-09     2\n",
       " 2011-02-15     4\n",
       " 2011-05-04     4\n",
       " 2011-08-03     2\n",
       " 2011-11-02     2\n",
       " 2012-02-15     2\n",
       " 2012-05-09     2\n",
       " 2012-07-25     1\n",
       " 2012-11-05     1\n",
       " 2013-02-20     1\n",
       " 2013-05-08     1\n",
       " 2013-08-07     1\n",
       " 2013-11-05     1\n",
       " 2014-02-19     1\n",
       " 2014-05-07     1\n",
       " 2014-07-31     1\n",
       " 2014-11-05     1\n",
       " 2015-02-12     1\n",
       " 2015-05-06     1\n",
       " 2015-08-05     1\n",
       " 2015-11-03     9\n",
       " 2016-02-10     6\n",
       " 2016-05-04     2\n",
       " 2016-08-03     2\n",
       " 2016-10-26     4\n",
       " 2017-02-22     9\n",
       " 2017-05-03     6\n",
       " 2017-08-02    18\n",
       " 2017-11-01     3\n",
       " 2018-02-07     1\n",
       " 2018-05-02     1\n",
       " 2018-08-01     8\n",
       " 2018-10-24    24\n",
       " 2019-01-30     2\n",
       " 2019-04-24     1\n",
       " 2019-07-24    11\n",
       " 2019-10-23    12\n",
       " 2020-01-29     1\n",
       " 2020-04-29     1\n",
       " 2020-07-22     1\n",
       " 2020-10-21     2\n",
       " 2021-01-27     1\n",
       " 2021-04-26     2\n",
       " 2021-07-26     1\n",
       " 2022-01-26     4\n",
       " 2022-04-20     1\n",
       " 2022-07-20     4\n",
       " 2022-10-19     1\n",
       " 2023-01-25     1\n",
       " 2023-04-19     1\n",
       " 2023-07-19     1\n",
       " 2023-10-18     1\n",
       "Name: chara2, dtype: int64"
      ]
     },
     "execution_count": 38,
     "metadata": {},
     "output_type": "execute_result"
    }
   ],
   "source": [
    "data_table_.groupby(['call_datetime'])['chara2'].nunique()"
   ]
  },
  {
   "cell_type": "code",
   "execution_count": null,
   "id": "bdb1a938",
   "metadata": {},
   "outputs": [],
   "source": []
  },
  {
   "cell_type": "code",
   "execution_count": 41,
   "id": "c17a23bb",
   "metadata": {},
   "outputs": [],
   "source": [
    "prenum=data_table_.groupby(['call_datetime'])['chara2'].nunique().values"
   ]
  },
  {
   "cell_type": "code",
   "execution_count": 61,
   "id": "55b43133",
   "metadata": {},
   "outputs": [],
   "source": [
    "date=data_table_['call_datetime'].drop_duplicates().reset_index(drop=True)"
   ]
  },
  {
   "cell_type": "code",
   "execution_count": 67,
   "id": "d0c539bb",
   "metadata": {},
   "outputs": [],
   "source": [
    "date=\\\n",
    "pd.to_datetime(date, format='%Y-%m-%d')"
   ]
  },
  {
   "cell_type": "code",
   "execution_count": null,
   "id": "2e4d90e5",
   "metadata": {},
   "outputs": [],
   "source": []
  },
  {
   "cell_type": "code",
   "execution_count": 77,
   "id": "8c72b826",
   "metadata": {},
   "outputs": [
    {
     "data": {
      "text/plain": [
       "<matplotlib.legend.Legend at 0x7f88b14b4f70>"
      ]
     },
     "execution_count": 77,
     "metadata": {},
     "output_type": "execute_result"
    },
    {
     "data": {
      "image/png": "[encoded data removed]",
      "text/plain": [
       "<Figure size 1600x300 with 1 Axes>"
      ]
     },
     "metadata": {},
     "output_type": "display_data"
    }
   ],
   "source": [
    "csfont = {'fontname':'serif'}\n",
    "sizetext=12\n",
    "\n",
    "fig, (ax1) = plt.subplots(nrows = 1, ncols = 1, figsize = (16, 3))\n",
    "\n",
    "lns1=\\\n",
    "ax1.plot(date, prenum, label='Number of presentation speeches', color='r')\n",
    "\n",
    "ax1.set_title(\"Number: Presentation Speeches\", **csfont, size = sizetext)\n",
    "ax1.set_ylabel('Number', size = sizetext, **csfont)\n",
    "ax1.set_xlabel('date', size = sizetext, **csfont)\n",
    "# ax1.set_xlim([datetime(2010, 11, 9), datetime(2022, 12, 31)]) \n",
    "ax1.grid(linewidth=0.5)\n",
    "ax1.legend()"
   ]
  },
  {
   "cell_type": "code",
   "execution_count": null,
   "id": "94ed7f71",
   "metadata": {},
   "outputs": [],
   "source": []
  },
  {
   "cell_type": "code",
   "execution_count": null,
   "id": "ae27570c",
   "metadata": {},
   "outputs": [],
   "source": []
  },
  {
   "cell_type": "code",
   "execution_count": null,
   "id": "e73addbd",
   "metadata": {},
   "outputs": [],
   "source": []
  },
  {
   "cell_type": "code",
   "execution_count": null,
   "id": "4fb51b2b",
   "metadata": {},
   "outputs": [],
   "source": []
  }
 ],
 "metadata": {
  "kernelspec": {
   "display_name": "Python 3 (ipykernel)",
   "language": "python",
   "name": "python3"
  },
  "language_info": {
   "codemirror_mode": {
    "name": "ipython",
    "version": 3
   },
   "file_extension": ".py",
   "mimetype": "text/x-python",
   "name": "python",
   "nbconvert_exporter": "python",
   "pygments_lexer": "ipython3",
   "version": "3.10.9"
  }
 },
 "nbformat": 4,
 "nbformat_minor": 5
}
